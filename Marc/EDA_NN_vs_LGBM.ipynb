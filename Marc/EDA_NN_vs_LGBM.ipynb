{
 "cells": [
  {
   "cell_type": "code",
   "execution_count": 5,
   "metadata": {
    "executionInfo": {
     "elapsed": 781,
     "status": "ok",
     "timestamp": 1602094343796,
     "user": {
      "displayName": "marc garcia",
      "photoUrl": "https://lh3.googleusercontent.com/a-/AOh14GiY31bLZnckJn8M8iLiJ7JgW20hl8JAeuFr_5ru=s64",
      "userId": "10235029218341746211"
     },
     "user_tz": -120
    },
    "id": "9t2sI8HJMkbz"
   },
   "outputs": [],
   "source": [
    "'''Main'''\n",
    "import numpy as np\n",
    "import pandas as pd\n",
    "import os\n",
    "\n",
    "'''Data Viz'''\n",
    "import matplotlib.pyplot as plt\n",
    "import seaborn as sns\n",
    "color = sns.color_palette()\n",
    "import matplotlib as mpl\n",
    "\n",
    "%matplotlib inline\n",
    "\n",
    "'''Data Prep'''\n",
    "from sklearn.impute import SimpleImputer\n",
    "from sklearn.preprocessing import StandardScaler,RobustScaler\n",
    "from sklearn.compose import ColumnTransformer \n",
    "from scipy.stats import pearsonr \n",
    "from sklearn.model_selection import train_test_split\n",
    "from sklearn.model_selection import StratifiedKFold \n",
    "from sklearn.metrics import precision_recall_curve, average_precision_score,precision_score\n",
    "from sklearn.metrics import roc_curve, auc, roc_auc_score\n",
    "from sklearn.metrics import confusion_matrix, classification_report \n",
    "\n",
    "'''Algos'''\n",
    "from sklearn.linear_model import LogisticRegression\n",
    "from sklearn.ensemble import RandomForestClassifier\n",
    "#import xgboost as xgb\n",
    "#import lightgbm as lgb"
   ]
  },
  {
   "cell_type": "code",
   "execution_count": 6,
   "metadata": {},
   "outputs": [],
   "source": [
    "from keras.models import Sequential,Input,Model\n",
    "from keras.layers import Dense\n",
    "import tensorflow as tf"
   ]
  },
  {
   "cell_type": "markdown",
   "metadata": {
    "heading_collapsed": true,
    "id": "1hoNf6tvMkb3"
   },
   "source": [
    "# Data Preparation"
   ]
  },
  {
   "cell_type": "markdown",
   "metadata": {
    "hidden": true,
    "id": "vvVSoCcQMkb3"
   },
   "source": [
    "## Acquire Data"
   ]
  },
  {
   "cell_type": "code",
   "execution_count": 47,
   "metadata": {
    "hidden": true
   },
   "outputs": [],
   "source": [
    "# We only get the train data set\n",
    "current_path = os.getcwd()+\"\\\\\"\n",
    "file = os.path.sep.join([\"..\\\\data\\\\train.csv\"])\n",
    "df = pd.read_csv(current_path + file)\n",
    "df.columns = df.columns.str.strip()\n",
    "X = np.asarray(df)[:,:-2]\n",
    "y = np.asarray(df)[:,-1]"
   ]
  },
  {
   "cell_type": "markdown",
   "metadata": {
    "hidden": true,
    "id": "oqsO3uFeMkcE"
   },
   "source": [
    "## Scaling the data"
   ]
  },
  {
   "cell_type": "code",
   "execution_count": 48,
   "metadata": {
    "executionInfo": {
     "elapsed": 1933,
     "status": "ok",
     "timestamp": 1602094344997,
     "user": {
      "displayName": "marc garcia",
      "photoUrl": "https://lh3.googleusercontent.com/a-/AOh14GiY31bLZnckJn8M8iLiJ7JgW20hl8JAeuFr_5ru=s64",
      "userId": "10235029218341746211"
     },
     "user_tz": -120
    },
    "hidden": true,
    "id": "tl4pS8ZMMkcE"
   },
   "outputs": [],
   "source": [
    "#Standarazing all of the signal variables. Use RobustScaler to avoid outilers effect when normalizing.\n",
    "X_rscaled=X.copy()\n",
    "rscaler = RobustScaler()\n",
    "#X_rscaled[X_scaled.columns.values] = scaler.fit_transform(X_scaled[X_scaled.columns.values])\n",
    "X_rscaled = rscaler.fit_transform(X_rscaled)"
   ]
  },
  {
   "cell_type": "markdown",
   "metadata": {
    "hidden": true,
    "id": "lKbVE95DMkcJ"
   },
   "source": [
    "Using **Robust Scaling** to avoid outliers effect when scaling\n",
    "\n",
    "More info in: https://scikit-learn.org/stable/auto_examples/preprocessing/plot_all_scaling.html"
   ]
  },
  {
   "cell_type": "markdown",
   "metadata": {
    "heading_collapsed": true,
    "id": "HlO7sLMiMkcR"
   },
   "source": [
    "# Model Training and testing"
   ]
  },
  {
   "cell_type": "markdown",
   "metadata": {
    "hidden": true
   },
   "source": [
    "## Neural Network"
   ]
  },
  {
   "cell_type": "code",
   "execution_count": 50,
   "metadata": {
    "hidden": true
   },
   "outputs": [],
   "source": [
    "#split the data\n",
    "X_train, X_test, y_train, y_test = train_test_split(X_rscaled, y, test_size=0.1,random_state=0,shuffle=True)"
   ]
  },
  {
   "cell_type": "code",
   "execution_count": 52,
   "metadata": {
    "hidden": true
   },
   "outputs": [
    {
     "name": "stdout",
     "output_type": "stream",
     "text": [
      "Shape of training data: (191395, 15)\n"
     ]
    }
   ],
   "source": [
    "#Shape of train data\n",
    "print('Shape of training data:',X_train.shape)"
   ]
  },
  {
   "cell_type": "code",
   "execution_count": 53,
   "metadata": {
    "hidden": true
   },
   "outputs": [
    {
     "name": "stdout",
     "output_type": "stream",
     "text": [
      "Model: \"BosonNN\"\n",
      "_________________________________________________________________\n",
      "Layer (type)                 Output Shape              Param #   \n",
      "=================================================================\n",
      "input_3 (InputLayer)         [(None, 15)]              0         \n",
      "_________________________________________________________________\n",
      "dense_16 (Dense)             (None, 100)               1600      \n",
      "_________________________________________________________________\n",
      "dense_17 (Dense)             (None, 90)                9090      \n",
      "_________________________________________________________________\n",
      "dense_18 (Dense)             (None, 80)                7280      \n",
      "_________________________________________________________________\n",
      "dense_19 (Dense)             (None, 70)                5670      \n",
      "_________________________________________________________________\n",
      "dense_20 (Dense)             (None, 60)                4260      \n",
      "_________________________________________________________________\n",
      "dense_21 (Dense)             (None, 50)                3050      \n",
      "_________________________________________________________________\n",
      "dense_22 (Dense)             (None, 25)                1275      \n",
      "_________________________________________________________________\n",
      "dense_23 (Dense)             (None, 1)                 26        \n",
      "=================================================================\n",
      "Total params: 32,251\n",
      "Trainable params: 32,251\n",
      "Non-trainable params: 0\n",
      "_________________________________________________________________\n"
     ]
    }
   ],
   "source": [
    "#Model: Fully connected neural network\n",
    "input_data = Input(shape=(15,))\n",
    "denselayer1 = Dense(units=100, activation = 'relu',input_shape = (14,))(input_data)\n",
    "denselayer2 = Dense(units=90,activation = 'relu')(denselayer1)\n",
    "denselayer3 = Dense(units=80,activation = 'relu')(denselayer2)\n",
    "denselayer4 = Dense(units=70,activation = 'relu')(denselayer3)\n",
    "denselayer5 = Dense(units=60,activation = 'relu')(denselayer4)\n",
    "denselayer6 = Dense(units=50,activation = 'relu')(denselayer5)\n",
    "denselayer7 = Dense(units=25,activation = 'relu')(denselayer6)\n",
    "outputlayer = Dense(units=1, activation='sigmoid')(denselayer7)\n",
    "model = Model(inputs=input_data, outputs=outputlayer,name=\"BosonNN\")\n",
    "model.summary()"
   ]
  },
  {
   "cell_type": "code",
   "execution_count": 54,
   "metadata": {
    "hidden": true
   },
   "outputs": [],
   "source": [
    "# Compile the model.\n",
    "model.compile(\n",
    "  optimizer='adam',\n",
    "  loss='binary_crossentropy',\n",
    "  metrics=['binary_accuracy'],\n",
    ")"
   ]
  },
  {
   "cell_type": "code",
   "execution_count": 55,
   "metadata": {
    "hidden": true,
    "scrolled": true
   },
   "outputs": [
    {
     "name": "stdout",
     "output_type": "stream",
     "text": [
      "Epoch 1/200\n",
      "4486/4486 [==============================] - 6s 1ms/step - loss: 0.4648 - binary_accuracy: 0.7717 - val_loss: 0.4450 - val_binary_accuracy: 0.7835\n",
      "Epoch 2/200\n",
      "4486/4486 [==============================] - 6s 1ms/step - loss: 0.4370 - binary_accuracy: 0.7894 - val_loss: 0.4287 - val_binary_accuracy: 0.7934\n",
      "Epoch 3/200\n",
      "4486/4486 [==============================] - 6s 1ms/step - loss: 0.4227 - binary_accuracy: 0.7983 - val_loss: 0.4183 - val_binary_accuracy: 0.8003\n",
      "Epoch 4/200\n",
      "4486/4486 [==============================] - 6s 1ms/step - loss: 0.4090 - binary_accuracy: 0.8059 - val_loss: 0.4032 - val_binary_accuracy: 0.8091\n",
      "Epoch 5/200\n",
      "4486/4486 [==============================] - 6s 1ms/step - loss: 0.3996 - binary_accuracy: 0.8132 - val_loss: 0.3978 - val_binary_accuracy: 0.8146\n",
      "Epoch 6/200\n",
      "4486/4486 [==============================] - 6s 1ms/step - loss: 0.3933 - binary_accuracy: 0.8150 - val_loss: 0.3988 - val_binary_accuracy: 0.8126\n",
      "Epoch 7/200\n",
      "4486/4486 [==============================] - 6s 1ms/step - loss: 0.3889 - binary_accuracy: 0.8177 - val_loss: 0.3964 - val_binary_accuracy: 0.8175\n",
      "Epoch 8/200\n",
      "4486/4486 [==============================] - 6s 1ms/step - loss: 0.3862 - binary_accuracy: 0.8200 - val_loss: 0.3887 - val_binary_accuracy: 0.8202\n",
      "Epoch 9/200\n",
      "4486/4486 [==============================] - 6s 1ms/step - loss: 0.3829 - binary_accuracy: 0.8226 - val_loss: 0.3882 - val_binary_accuracy: 0.8205\n",
      "Epoch 10/200\n",
      "4486/4486 [==============================] - 5s 1ms/step - loss: 0.3795 - binary_accuracy: 0.8229 - val_loss: 0.3842 - val_binary_accuracy: 0.8211\n",
      "Epoch 11/200\n",
      "4486/4486 [==============================] - 6s 1ms/step - loss: 0.3767 - binary_accuracy: 0.8246 - val_loss: 0.3841 - val_binary_accuracy: 0.8223\n",
      "Epoch 12/200\n",
      "4486/4486 [==============================] - 6s 1ms/step - loss: 0.3756 - binary_accuracy: 0.8259 - val_loss: 0.3804 - val_binary_accuracy: 0.8221\n",
      "Epoch 13/200\n",
      "4486/4486 [==============================] - 6s 1ms/step - loss: 0.3725 - binary_accuracy: 0.8268 - val_loss: 0.3830 - val_binary_accuracy: 0.8221\n",
      "Epoch 14/200\n",
      "4486/4486 [==============================] - 7s 2ms/step - loss: 0.3703 - binary_accuracy: 0.8277 - val_loss: 0.3894 - val_binary_accuracy: 0.8184\n",
      "Epoch 15/200\n",
      "4486/4486 [==============================] - 8s 2ms/step - loss: 0.3687 - binary_accuracy: 0.8289 - val_loss: 0.3823 - val_binary_accuracy: 0.8236\n",
      "Epoch 16/200\n",
      "4486/4486 [==============================] - 7s 2ms/step - loss: 0.3672 - binary_accuracy: 0.8297 - val_loss: 0.3801 - val_binary_accuracy: 0.8237\n",
      "Epoch 17/200\n",
      "4486/4486 [==============================] - 6s 1ms/step - loss: 0.3657 - binary_accuracy: 0.8315 - val_loss: 0.3817 - val_binary_accuracy: 0.8254\n",
      "Epoch 18/200\n",
      "4486/4486 [==============================] - 6s 1ms/step - loss: 0.3638 - binary_accuracy: 0.8316 - val_loss: 0.3809 - val_binary_accuracy: 0.8252\n",
      "Epoch 19/200\n",
      "4486/4486 [==============================] - 5s 1ms/step - loss: 0.3626 - binary_accuracy: 0.8323 - val_loss: 0.3762 - val_binary_accuracy: 0.8247\n",
      "Epoch 20/200\n",
      "4486/4486 [==============================] - 5s 1ms/step - loss: 0.3606 - binary_accuracy: 0.8329 - val_loss: 0.3765 - val_binary_accuracy: 0.8283\n",
      "Epoch 21/200\n",
      "4486/4486 [==============================] - 5s 1ms/step - loss: 0.3593 - binary_accuracy: 0.8336 - val_loss: 0.3797 - val_binary_accuracy: 0.8250\n",
      "Epoch 22/200\n",
      "4486/4486 [==============================] - 5s 1ms/step - loss: 0.3578 - binary_accuracy: 0.8345 - val_loss: 0.3774 - val_binary_accuracy: 0.8237\n",
      "Epoch 23/200\n",
      "4486/4486 [==============================] - 5s 1ms/step - loss: 0.3561 - binary_accuracy: 0.8358 - val_loss: 0.3803 - val_binary_accuracy: 0.8256\n",
      "Epoch 24/200\n",
      "4486/4486 [==============================] - 5s 1ms/step - loss: 0.3544 - binary_accuracy: 0.8363 - val_loss: 0.3788 - val_binary_accuracy: 0.8256\n",
      "Epoch 25/200\n",
      "4486/4486 [==============================] - 5s 1ms/step - loss: 0.3529 - binary_accuracy: 0.8369 - val_loss: 0.3788 - val_binary_accuracy: 0.8260\n",
      "Epoch 26/200\n",
      "4486/4486 [==============================] - 5s 1ms/step - loss: 0.3528 - binary_accuracy: 0.8369 - val_loss: 0.3783 - val_binary_accuracy: 0.8259\n",
      "Epoch 27/200\n",
      "4486/4486 [==============================] - 5s 1ms/step - loss: 0.3499 - binary_accuracy: 0.8388 - val_loss: 0.3827 - val_binary_accuracy: 0.8235\n",
      "Epoch 28/200\n",
      "4486/4486 [==============================] - 5s 1ms/step - loss: 0.3493 - binary_accuracy: 0.8386 - val_loss: 0.3803 - val_binary_accuracy: 0.8251\n",
      "Epoch 29/200\n",
      "4486/4486 [==============================] - 5s 1ms/step - loss: 0.3478 - binary_accuracy: 0.8394 - val_loss: 0.3769 - val_binary_accuracy: 0.8255\n",
      "Epoch 30/200\n",
      "4486/4486 [==============================] - 6s 1ms/step - loss: 0.3465 - binary_accuracy: 0.8398 - val_loss: 0.3769 - val_binary_accuracy: 0.8266\n",
      "Epoch 31/200\n",
      "4486/4486 [==============================] - 6s 1ms/step - loss: 0.3449 - binary_accuracy: 0.8408 - val_loss: 0.3777 - val_binary_accuracy: 0.8266\n",
      "Epoch 32/200\n",
      "4486/4486 [==============================] - 6s 1ms/step - loss: 0.3439 - binary_accuracy: 0.8408 - val_loss: 0.3763 - val_binary_accuracy: 0.8270\n",
      "Epoch 33/200\n",
      "4486/4486 [==============================] - 8s 2ms/step - loss: 0.3426 - binary_accuracy: 0.8424 - val_loss: 0.3798 - val_binary_accuracy: 0.8247\n",
      "Epoch 34/200\n",
      "4486/4486 [==============================] - 7s 2ms/step - loss: 0.3419 - binary_accuracy: 0.8425 - val_loss: 0.3790 - val_binary_accuracy: 0.8256\n",
      "Epoch 35/200\n",
      "4486/4486 [==============================] - 7s 2ms/step - loss: 0.3406 - binary_accuracy: 0.8432 - val_loss: 0.3832 - val_binary_accuracy: 0.8261\n",
      "Epoch 36/200\n",
      "4486/4486 [==============================] - 6s 1ms/step - loss: 0.3395 - binary_accuracy: 0.8439 - val_loss: 0.3798 - val_binary_accuracy: 0.8271\n",
      "Epoch 37/200\n",
      "4486/4486 [==============================] - 5s 1ms/step - loss: 0.3391 - binary_accuracy: 0.8441 - val_loss: 0.3844 - val_binary_accuracy: 0.8221\n",
      "Epoch 38/200\n",
      "4486/4486 [==============================] - 5s 1ms/step - loss: 0.3372 - binary_accuracy: 0.8449 - val_loss: 0.3789 - val_binary_accuracy: 0.8257\n",
      "Epoch 39/200\n",
      "4486/4486 [==============================] - 5s 1ms/step - loss: 0.3358 - binary_accuracy: 0.8448 - val_loss: 0.3772 - val_binary_accuracy: 0.8284\n",
      "Epoch 00039: early stopping\n"
     ]
    }
   ],
   "source": [
    "# Train the model.\n",
    "from keras.callbacks import EarlyStopping\n",
    "from keras.callbacks import ModelCheckpoint\n",
    "callback = EarlyStopping(monitor='val_loss', mode='min',patience=20, verbose=1)\n",
    "\n",
    "history=model.fit(\n",
    "  X_train,\n",
    "  y_train,\n",
    "  validation_split=0.25,\n",
    "  epochs=200,\n",
    "  batch_size=32,\n",
    "  callbacks=[callback]\n",
    "    )"
   ]
  },
  {
   "cell_type": "code",
   "execution_count": 56,
   "metadata": {
    "hidden": true
   },
   "outputs": [],
   "source": [
    "NNpredictions_train = model.predict(X_train)\n",
    "NNpredictions_test = model.predict(X_test)"
   ]
  },
  {
   "cell_type": "code",
   "execution_count": 57,
   "metadata": {
    "hidden": true
   },
   "outputs": [
    {
     "name": "stdout",
     "output_type": "stream",
     "text": [
      "Train 0.9122477804137207\n",
      "Test 0.8945380797885667\n"
     ]
    }
   ],
   "source": [
    "print('Train',roc_auc_score(y_train,predictions_train))\n",
    "print('Test',roc_auc_score(y_test,predictions_test))"
   ]
  },
  {
   "cell_type": "code",
   "execution_count": 67,
   "metadata": {
    "hidden": true
   },
   "outputs": [],
   "source": [
    "import pickle\n",
    "current_path = os.getcwd()+\"\\\\\"\n",
    "pkl_filename = os.path.sep.join([\"pickle_model_gbdt.pkl\"])\n",
    "with open(pkl_filename, 'rb') as file:\n",
    "    pickle_model = pickle.load(file)"
   ]
  },
  {
   "cell_type": "code",
   "execution_count": 69,
   "metadata": {
    "hidden": true
   },
   "outputs": [],
   "source": [
    "#split the data\n",
    "X_train, X_test, y_train, y_test = train_test_split(X, y, test_size=0.1,random_state=0,shuffle=True)"
   ]
  },
  {
   "cell_type": "code",
   "execution_count": 70,
   "metadata": {
    "hidden": true
   },
   "outputs": [
    {
     "name": "stdout",
     "output_type": "stream",
     "text": [
      "0.909439490334897\n",
      "0.8731263705334331\n"
     ]
    }
   ],
   "source": [
    "print(roc_auc_score(y_train, pickle_model.predict(X_train,num_iteration=pickle_model.best_iteration)))\n",
    "print(roc_auc_score(y_test, pickle_model.predict(X_test,num_iteration=pickle_model.best_iteration)))"
   ]
  },
  {
   "cell_type": "code",
   "execution_count": 71,
   "metadata": {
    "hidden": true
   },
   "outputs": [],
   "source": [
    "LGpredictions=pickle_model.predict(X_test,num_iteration=pickle_model.best_iteration)"
   ]
  },
  {
   "cell_type": "markdown",
   "metadata": {},
   "source": [
    "# EDA Starts here"
   ]
  },
  {
   "cell_type": "code",
   "execution_count": 93,
   "metadata": {},
   "outputs": [],
   "source": [
    "d={'Y':y_test,'NNY':NNpredictions_test[:,0],'LBY':LGpredictions}\n",
    "df = pd.DataFrame(data=d)"
   ]
  },
  {
   "cell_type": "code",
   "execution_count": 96,
   "metadata": {},
   "outputs": [
    {
     "data": {
      "text/plain": [
       "<seaborn.axisgrid.PairGrid at 0x17c541004e0>"
      ]
     },
     "execution_count": 96,
     "metadata": {},
     "output_type": "execute_result"
    },
    {
     "data": {
      "image/png": "[encoded data removed]",
      "text/plain": [
       "<Figure size 411.875x360 with 6 Axes>"
      ]
     },
     "metadata": {
      "needs_background": "light"
     },
     "output_type": "display_data"
    }
   ],
   "source": [
    "sns.pairplot(data=df,hue=\"Y\")"
   ]
  },
  {
   "cell_type": "code",
   "execution_count": null,
   "metadata": {},
   "outputs": [],
   "source": []
  }
 ],
 "metadata": {
  "kernelspec": {
   "display_name": "Python 3",
   "language": "python",
   "name": "python3"
  },
  "language_info": {
   "codemirror_mode": {
    "name": "ipython",
    "version": 3
   },
   "file_extension": ".py",
   "mimetype": "text/x-python",
   "name": "python",
   "nbconvert_exporter": "python",
   "pygments_lexer": "ipython3",
   "version": "3.7.3"
  },
  "toc": {
   "base_numbering": 1,
   "nav_menu": {},
   "number_sections": true,
   "sideBar": true,
   "skip_h1_title": false,
   "title_cell": "Table of Contents",
   "title_sidebar": "Contents",
   "toc_cell": false,
   "toc_position": {},
   "toc_section_display": true,
   "toc_window_display": false
  }
 },
 "nbformat": 4,
 "nbformat_minor": 4
}
