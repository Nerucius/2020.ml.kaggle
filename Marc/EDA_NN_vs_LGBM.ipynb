{
 "cells": [
  {
   "cell_type": "code",
   "execution_count": 1,
   "metadata": {
    "executionInfo": {
     "elapsed": 781,
     "status": "ok",
     "timestamp": 1602094343796,
     "user": {
      "displayName": "marc garcia",
      "photoUrl": "https://lh3.googleusercontent.com/a-/AOh14GiY31bLZnckJn8M8iLiJ7JgW20hl8JAeuFr_5ru=s64",
      "userId": "10235029218341746211"
     },
     "user_tz": -120
    },
    "id": "9t2sI8HJMkbz"
   },
   "outputs": [],
   "source": [
    "'''Main'''\n",
    "import numpy as np\n",
    "import pandas as pd\n",
    "import os\n",
    "\n",
    "'''Data Viz'''\n",
    "import matplotlib.pyplot as plt\n",
    "import seaborn as sns\n",
    "color = sns.color_palette()\n",
    "import matplotlib as mpl\n",
    "\n",
    "%matplotlib inline\n",
    "\n",
    "'''Data Prep'''\n",
    "from sklearn.impute import SimpleImputer\n",
    "from sklearn.preprocessing import StandardScaler,RobustScaler\n",
    "from sklearn.compose import ColumnTransformer \n",
    "from scipy.stats import pearsonr \n",
    "from sklearn.model_selection import train_test_split\n",
    "from sklearn.model_selection import StratifiedKFold \n",
    "from sklearn.metrics import precision_recall_curve, average_precision_score,precision_score\n",
    "from sklearn.metrics import roc_curve, auc, roc_auc_score\n",
    "from sklearn.metrics import confusion_matrix, classification_report \n",
    "\n",
    "'''Algos'''\n",
    "from sklearn.linear_model import LogisticRegression\n",
    "from sklearn.ensemble import RandomForestClassifier\n",
    "#import xgboost as xgb\n",
    "#import lightgbm as lgb"
   ]
  },
  {
   "cell_type": "code",
   "execution_count": 2,
   "metadata": {},
   "outputs": [],
   "source": [
    "from keras.models import Sequential,Input,Model\n",
    "from keras.layers import Dense\n",
    "import tensorflow as tf"
   ]
  },
  {
   "cell_type": "markdown",
   "metadata": {
    "heading_collapsed": true,
    "id": "1hoNf6tvMkb3"
   },
   "source": [
    "# Data Preparation"
   ]
  },
  {
   "cell_type": "markdown",
   "metadata": {
    "hidden": true,
    "id": "vvVSoCcQMkb3"
   },
   "source": [
    "## Acquire Data"
   ]
  },
  {
   "cell_type": "code",
   "execution_count": 3,
   "metadata": {
    "hidden": true
   },
   "outputs": [],
   "source": [
    "# We only get the train data set\n",
    "current_path = os.getcwd()+\"\\\\\"\n",
    "file = os.path.sep.join([\"..\\\\data\\\\train.csv\"])\n",
    "df = pd.read_csv(current_path + file)\n",
    "df.columns = df.columns.str.strip()\n",
    "X = np.asarray(df)[:,:-2]\n",
    "y = np.asarray(df)[:,-1]"
   ]
  },
  {
   "cell_type": "markdown",
   "metadata": {
    "hidden": true,
    "id": "oqsO3uFeMkcE"
   },
   "source": [
    "## Scaling the data"
   ]
  },
  {
   "cell_type": "code",
   "execution_count": 4,
   "metadata": {
    "executionInfo": {
     "elapsed": 1933,
     "status": "ok",
     "timestamp": 1602094344997,
     "user": {
      "displayName": "marc garcia",
      "photoUrl": "https://lh3.googleusercontent.com/a-/AOh14GiY31bLZnckJn8M8iLiJ7JgW20hl8JAeuFr_5ru=s64",
      "userId": "10235029218341746211"
     },
     "user_tz": -120
    },
    "hidden": true,
    "id": "tl4pS8ZMMkcE"
   },
   "outputs": [],
   "source": [
    "#Standarazing all of the signal variables. Use RobustScaler to avoid outilers effect when normalizing.\n",
    "X_rscaled=X.copy()\n",
    "rscaler = RobustScaler()\n",
    "#X_rscaled[X_scaled.columns.values] = scaler.fit_transform(X_scaled[X_scaled.columns.values])\n",
    "X_rscaled = rscaler.fit_transform(X_rscaled)"
   ]
  },
  {
   "cell_type": "markdown",
   "metadata": {
    "hidden": true,
    "id": "lKbVE95DMkcJ"
   },
   "source": [
    "Using **Robust Scaling** to avoid outliers effect when scaling\n",
    "\n",
    "More info in: https://scikit-learn.org/stable/auto_examples/preprocessing/plot_all_scaling.html"
   ]
  },
  {
   "cell_type": "markdown",
   "metadata": {
    "id": "HlO7sLMiMkcR"
   },
   "source": [
    "# Model Training and testing"
   ]
  },
  {
   "cell_type": "markdown",
   "metadata": {
    "heading_collapsed": true
   },
   "source": [
    "## Neural Network"
   ]
  },
  {
   "cell_type": "code",
   "execution_count": 5,
   "metadata": {
    "hidden": true
   },
   "outputs": [],
   "source": [
    "#split the data\n",
    "X_train, X_test, y_train, y_test = train_test_split(X_rscaled, y, test_size=0.1,random_state=0,shuffle=True)"
   ]
  },
  {
   "cell_type": "code",
   "execution_count": 6,
   "metadata": {
    "hidden": true
   },
   "outputs": [
    {
     "name": "stdout",
     "output_type": "stream",
     "text": [
      "Shape of training data: (191395, 15)\n"
     ]
    }
   ],
   "source": [
    "#Shape of train data\n",
    "print('Shape of training data:',X_train.shape)"
   ]
  },
  {
   "cell_type": "code",
   "execution_count": 7,
   "metadata": {
    "hidden": true
   },
   "outputs": [
    {
     "name": "stdout",
     "output_type": "stream",
     "text": [
      "Model: \"BosonNN\"\n",
      "_________________________________________________________________\n",
      "Layer (type)                 Output Shape              Param #   \n",
      "=================================================================\n",
      "input_1 (InputLayer)         [(None, 15)]              0         \n",
      "_________________________________________________________________\n",
      "dense (Dense)                (None, 100)               1600      \n",
      "_________________________________________________________________\n",
      "dense_1 (Dense)              (None, 90)                9090      \n",
      "_________________________________________________________________\n",
      "dense_2 (Dense)              (None, 80)                7280      \n",
      "_________________________________________________________________\n",
      "dense_3 (Dense)              (None, 70)                5670      \n",
      "_________________________________________________________________\n",
      "dense_4 (Dense)              (None, 60)                4260      \n",
      "_________________________________________________________________\n",
      "dense_5 (Dense)              (None, 50)                3050      \n",
      "_________________________________________________________________\n",
      "dense_6 (Dense)              (None, 25)                1275      \n",
      "_________________________________________________________________\n",
      "dense_7 (Dense)              (None, 1)                 26        \n",
      "=================================================================\n",
      "Total params: 32,251\n",
      "Trainable params: 32,251\n",
      "Non-trainable params: 0\n",
      "_________________________________________________________________\n"
     ]
    }
   ],
   "source": [
    "#Model: Fully connected neural network\n",
    "input_data = Input(shape=(15,))\n",
    "denselayer1 = Dense(units=100, activation = 'relu',input_shape = (14,))(input_data)\n",
    "denselayer2 = Dense(units=90,activation = 'relu')(denselayer1)\n",
    "denselayer3 = Dense(units=80,activation = 'relu')(denselayer2)\n",
    "denselayer4 = Dense(units=70,activation = 'relu')(denselayer3)\n",
    "denselayer5 = Dense(units=60,activation = 'relu')(denselayer4)\n",
    "denselayer6 = Dense(units=50,activation = 'relu')(denselayer5)\n",
    "denselayer7 = Dense(units=25,activation = 'relu')(denselayer6)\n",
    "outputlayer = Dense(units=1, activation='sigmoid')(denselayer7)\n",
    "model = Model(inputs=input_data, outputs=outputlayer,name=\"BosonNN\")\n",
    "model.summary()"
   ]
  },
  {
   "cell_type": "code",
   "execution_count": 8,
   "metadata": {
    "hidden": true
   },
   "outputs": [],
   "source": [
    "# Compile the model.\n",
    "model.compile(\n",
    "  optimizer='adam',\n",
    "  loss='binary_crossentropy',\n",
    "  metrics=['binary_accuracy'],\n",
    ")"
   ]
  },
  {
   "cell_type": "code",
   "execution_count": 9,
   "metadata": {
    "hidden": true,
    "scrolled": true
   },
   "outputs": [
    {
     "name": "stdout",
     "output_type": "stream",
     "text": [
      "Epoch 1/200\n",
      "4486/4486 [==============================] - 11s 2ms/step - loss: 0.4655 - binary_accuracy: 0.7717 - val_loss: 0.4487 - val_binary_accuracy: 0.7813\n",
      "Epoch 2/200\n",
      "4486/4486 [==============================] - 9s 2ms/step - loss: 0.4339 - binary_accuracy: 0.7919 - val_loss: 0.4225 - val_binary_accuracy: 0.7992\n",
      "Epoch 3/200\n",
      "4486/4486 [==============================] - 11s 2ms/step - loss: 0.4172 - binary_accuracy: 0.8025 - val_loss: 0.4181 - val_binary_accuracy: 0.8008\n",
      "Epoch 4/200\n",
      "4486/4486 [==============================] - 11s 2ms/step - loss: 0.4043 - binary_accuracy: 0.8094 - val_loss: 0.4114 - val_binary_accuracy: 0.8019\n",
      "Epoch 5/200\n",
      "4486/4486 [==============================] - 11s 2ms/step - loss: 0.3963 - binary_accuracy: 0.8138 - val_loss: 0.3993 - val_binary_accuracy: 0.8116\n",
      "Epoch 6/200\n",
      "4486/4486 [==============================] - 11s 3ms/step - loss: 0.3907 - binary_accuracy: 0.8166 - val_loss: 0.3942 - val_binary_accuracy: 0.8149\n",
      "Epoch 7/200\n",
      "4486/4486 [==============================] - 10s 2ms/step - loss: 0.3873 - binary_accuracy: 0.8183 - val_loss: 0.3865 - val_binary_accuracy: 0.8199\n",
      "Epoch 8/200\n",
      "4486/4486 [==============================] - 9s 2ms/step - loss: 0.3840 - binary_accuracy: 0.8204 - val_loss: 0.4026 - val_binary_accuracy: 0.8118\n",
      "Epoch 9/200\n",
      "4486/4486 [==============================] - 9s 2ms/step - loss: 0.3809 - binary_accuracy: 0.8224 - val_loss: 0.3840 - val_binary_accuracy: 0.8198\n",
      "Epoch 10/200\n",
      "4486/4486 [==============================] - 9s 2ms/step - loss: 0.3781 - binary_accuracy: 0.8234 - val_loss: 0.3934 - val_binary_accuracy: 0.8164\n",
      "Epoch 11/200\n",
      "4486/4486 [==============================] - 9s 2ms/step - loss: 0.3760 - binary_accuracy: 0.8250 - val_loss: 0.3840 - val_binary_accuracy: 0.8214\n",
      "Epoch 12/200\n",
      "4486/4486 [==============================] - 9s 2ms/step - loss: 0.3743 - binary_accuracy: 0.8259 - val_loss: 0.3876 - val_binary_accuracy: 0.8186\n",
      "Epoch 13/200\n",
      "4486/4486 [==============================] - 10s 2ms/step - loss: 0.3724 - binary_accuracy: 0.8269 - val_loss: 0.3830 - val_binary_accuracy: 0.8223\n",
      "Epoch 14/200\n",
      "4486/4486 [==============================] - 9s 2ms/step - loss: 0.3698 - binary_accuracy: 0.8278 - val_loss: 0.3797 - val_binary_accuracy: 0.8227\n",
      "Epoch 15/200\n",
      "4486/4486 [==============================] - 8s 2ms/step - loss: 0.3685 - binary_accuracy: 0.8288 - val_loss: 0.3866 - val_binary_accuracy: 0.8199\n",
      "Epoch 16/200\n",
      "4486/4486 [==============================] - 7s 2ms/step - loss: 0.3667 - binary_accuracy: 0.8305 - val_loss: 0.3891 - val_binary_accuracy: 0.8179\n",
      "Epoch 17/200\n",
      "4486/4486 [==============================] - 6s 1ms/step - loss: 0.3655 - binary_accuracy: 0.8311 - val_loss: 0.3843 - val_binary_accuracy: 0.8234\n",
      "Epoch 18/200\n",
      "4486/4486 [==============================] - 6s 1ms/step - loss: 0.3636 - binary_accuracy: 0.8314 - val_loss: 0.3797 - val_binary_accuracy: 0.8227\n",
      "Epoch 19/200\n",
      "4486/4486 [==============================] - 6s 1ms/step - loss: 0.3623 - binary_accuracy: 0.8326 - val_loss: 0.3779 - val_binary_accuracy: 0.8234\n",
      "Epoch 20/200\n",
      "4486/4486 [==============================] - 6s 1ms/step - loss: 0.3598 - binary_accuracy: 0.8333 - val_loss: 0.3818 - val_binary_accuracy: 0.8236\n",
      "Epoch 21/200\n",
      "4486/4486 [==============================] - 6s 1ms/step - loss: 0.3593 - binary_accuracy: 0.8347 - val_loss: 0.3781 - val_binary_accuracy: 0.8248\n",
      "Epoch 22/200\n",
      "4486/4486 [==============================] - 6s 1ms/step - loss: 0.3562 - binary_accuracy: 0.8347 - val_loss: 0.3919 - val_binary_accuracy: 0.8190\n",
      "Epoch 23/200\n",
      "4486/4486 [==============================] - 7s 2ms/step - loss: 0.3556 - binary_accuracy: 0.8357 - val_loss: 0.3766 - val_binary_accuracy: 0.8273\n",
      "Epoch 24/200\n",
      "4486/4486 [==============================] - 9s 2ms/step - loss: 0.3543 - binary_accuracy: 0.8366 - val_loss: 0.3806 - val_binary_accuracy: 0.8257\n",
      "Epoch 25/200\n",
      "4486/4486 [==============================] - 10s 2ms/step - loss: 0.3525 - binary_accuracy: 0.8370 - val_loss: 0.3860 - val_binary_accuracy: 0.8285\n",
      "Epoch 26/200\n",
      "4486/4486 [==============================] - 10s 2ms/step - loss: 0.3509 - binary_accuracy: 0.8380 - val_loss: 0.3801 - val_binary_accuracy: 0.8269\n",
      "Epoch 27/200\n",
      "4486/4486 [==============================] - 10s 2ms/step - loss: 0.3495 - binary_accuracy: 0.8388 - val_loss: 0.3829 - val_binary_accuracy: 0.8237\n",
      "Epoch 28/200\n",
      "4486/4486 [==============================] - 10s 2ms/step - loss: 0.3489 - binary_accuracy: 0.8396 - val_loss: 0.3992 - val_binary_accuracy: 0.8178\n",
      "Epoch 29/200\n",
      "4486/4486 [==============================] - 10s 2ms/step - loss: 0.3468 - binary_accuracy: 0.8396 - val_loss: 0.3883 - val_binary_accuracy: 0.8200\n",
      "Epoch 30/200\n",
      "4486/4486 [==============================] - 9s 2ms/step - loss: 0.3455 - binary_accuracy: 0.8399 - val_loss: 0.3804 - val_binary_accuracy: 0.8277\n",
      "Epoch 31/200\n",
      "4486/4486 [==============================] - 9s 2ms/step - loss: 0.3439 - binary_accuracy: 0.8416 - val_loss: 0.3847 - val_binary_accuracy: 0.8247\n",
      "Epoch 32/200\n",
      "4486/4486 [==============================] - 9s 2ms/step - loss: 0.3434 - binary_accuracy: 0.8414 - val_loss: 0.3832 - val_binary_accuracy: 0.8255\n",
      "Epoch 33/200\n",
      "4486/4486 [==============================] - 9s 2ms/step - loss: 0.3417 - binary_accuracy: 0.8426 - val_loss: 0.3879 - val_binary_accuracy: 0.8248\n",
      "Epoch 34/200\n",
      "4486/4486 [==============================] - 8s 2ms/step - loss: 0.3406 - binary_accuracy: 0.8431 - val_loss: 0.3823 - val_binary_accuracy: 0.8265\n",
      "Epoch 35/200\n",
      "4486/4486 [==============================] - 9s 2ms/step - loss: 0.3402 - binary_accuracy: 0.8436 - val_loss: 0.3833 - val_binary_accuracy: 0.8308\n",
      "Epoch 36/200\n",
      "4486/4486 [==============================] - 8s 2ms/step - loss: 0.3383 - binary_accuracy: 0.8446 - val_loss: 0.3820 - val_binary_accuracy: 0.8258\n",
      "Epoch 37/200\n",
      "4486/4486 [==============================] - 9s 2ms/step - loss: 0.3368 - binary_accuracy: 0.8447 - val_loss: 0.3800 - val_binary_accuracy: 0.8281\n",
      "Epoch 38/200\n",
      "4486/4486 [==============================] - 9s 2ms/step - loss: 0.3357 - binary_accuracy: 0.8458 - val_loss: 0.3857 - val_binary_accuracy: 0.8235\n",
      "Epoch 39/200\n",
      "4486/4486 [==============================] - 7s 1ms/step - loss: 0.3343 - binary_accuracy: 0.8458 - val_loss: 0.3870 - val_binary_accuracy: 0.8277\n",
      "Epoch 40/200\n",
      "4486/4486 [==============================] - 6s 1ms/step - loss: 0.3329 - binary_accuracy: 0.8469 - val_loss: 0.3864 - val_binary_accuracy: 0.8273\n",
      "Epoch 41/200\n",
      "4486/4486 [==============================] - 6s 1ms/step - loss: 0.3325 - binary_accuracy: 0.8459 - val_loss: 0.3906 - val_binary_accuracy: 0.8270\n",
      "Epoch 42/200\n",
      "4486/4486 [==============================] - 6s 1ms/step - loss: 0.3309 - binary_accuracy: 0.8469 - val_loss: 0.3835 - val_binary_accuracy: 0.8279\n",
      "Epoch 43/200\n",
      "4486/4486 [==============================] - 7s 1ms/step - loss: 0.3303 - binary_accuracy: 0.8474 - val_loss: 0.3908 - val_binary_accuracy: 0.8268\n",
      "Epoch 00043: early stopping\n"
     ]
    }
   ],
   "source": [
    "# Train the model.\n",
    "from keras.callbacks import EarlyStopping\n",
    "from keras.callbacks import ModelCheckpoint\n",
    "callback = EarlyStopping(monitor='val_loss', mode='min',patience=20, verbose=1)\n",
    "\n",
    "history=model.fit(\n",
    "  X_train,\n",
    "  y_train,\n",
    "  validation_split=0.25,\n",
    "  epochs=200,\n",
    "  batch_size=32,\n",
    "  callbacks=[callback]\n",
    "    )"
   ]
  },
  {
   "cell_type": "code",
   "execution_count": 10,
   "metadata": {
    "hidden": true
   },
   "outputs": [],
   "source": [
    "NNpredictions_train = model.predict(X_train)\n",
    "NNpredictions_test = model.predict(X_test)"
   ]
  },
  {
   "cell_type": "code",
   "execution_count": 13,
   "metadata": {
    "hidden": true
   },
   "outputs": [
    {
     "name": "stdout",
     "output_type": "stream",
     "text": [
      "Train 0.9183014854246354\n",
      "Test 0.890967232827773\n"
     ]
    }
   ],
   "source": [
    "print('Train',roc_auc_score(y_train,NNpredictions_train))\n",
    "print('Test',roc_auc_score(y_test,NNpredictions_test))"
   ]
  },
  {
   "cell_type": "markdown",
   "metadata": {},
   "source": [
    "## Loading the LBM previously tuned with Optuna"
   ]
  },
  {
   "cell_type": "code",
   "execution_count": 14,
   "metadata": {},
   "outputs": [],
   "source": [
    "import pickle\n",
    "current_path = os.getcwd()+\"\\\\\"\n",
    "pkl_filename = os.path.sep.join([\"pickle_model_gbdt.pkl\"])\n",
    "with open(pkl_filename, 'rb') as file:\n",
    "    pickle_model = pickle.load(file)"
   ]
  },
  {
   "cell_type": "code",
   "execution_count": 15,
   "metadata": {},
   "outputs": [],
   "source": [
    "#split the data\n",
    "X_train, X_test, y_train, y_test = train_test_split(X, y, test_size=0.1,random_state=0,shuffle=True)"
   ]
  },
  {
   "cell_type": "code",
   "execution_count": 16,
   "metadata": {},
   "outputs": [
    {
     "name": "stdout",
     "output_type": "stream",
     "text": [
      "0.909439490334897\n",
      "0.8731263705334331\n"
     ]
    }
   ],
   "source": [
    "print(roc_auc_score(y_train, pickle_model.predict(X_train,num_iteration=pickle_model.best_iteration)))\n",
    "print(roc_auc_score(y_test, pickle_model.predict(X_test,num_iteration=pickle_model.best_iteration)))"
   ]
  },
  {
   "cell_type": "code",
   "execution_count": 17,
   "metadata": {},
   "outputs": [],
   "source": [
    "LGpredictions=pickle_model.predict(X_test,num_iteration=pickle_model.best_iteration)"
   ]
  },
  {
   "cell_type": "markdown",
   "metadata": {},
   "source": [
    "# EDA Starts here"
   ]
  },
  {
   "cell_type": "code",
   "execution_count": 18,
   "metadata": {},
   "outputs": [],
   "source": [
    "d={'Y':y_test,'NNY':NNpredictions_test[:,0],'LBY':LGpredictions}\n",
    "df = pd.DataFrame(data=d)"
   ]
  },
  {
   "cell_type": "code",
   "execution_count": 19,
   "metadata": {},
   "outputs": [
    {
     "data": {
      "text/plain": [
       "(21267, 3)"
      ]
     },
     "execution_count": 19,
     "metadata": {},
     "output_type": "execute_result"
    }
   ],
   "source": [
    "df.shape"
   ]
  },
  {
   "cell_type": "code",
   "execution_count": 20,
   "metadata": {},
   "outputs": [
    {
     "data": {
      "text/plain": [
       "<seaborn.axisgrid.PairGrid at 0x204a36814a8>"
      ]
     },
     "execution_count": 20,
     "metadata": {},
     "output_type": "execute_result"
    },
    {
     "data": {
      "image/png": "[encoded data removed]",
      "text/plain": [
       "<Figure size 411.875x360 with 6 Axes>"
      ]
     },
     "metadata": {
      "needs_background": "light"
     },
     "output_type": "display_data"
    }
   ],
   "source": [
    "sns.pairplot(data=df,hue=\"Y\")"
   ]
  },
  {
   "cell_type": "code",
   "execution_count": 21,
   "metadata": {},
   "outputs": [
    {
     "name": "stdout",
     "output_type": "stream",
     "text": [
      "NN Score: 0.8910, LGBM Score: 0.8731, Combined Score 0.8731\n",
      "NN Score: 0.8910, LGBM Score: 0.8731, Combined Score 0.8803\n",
      "NN Score: 0.8910, LGBM Score: 0.8731, Combined Score 0.8860\n",
      "NN Score: 0.8910, LGBM Score: 0.8731, Combined Score 0.8905\n",
      "NN Score: 0.8910, LGBM Score: 0.8731, Combined Score 0.8937\n",
      "NN Score: 0.8910, LGBM Score: 0.8731, Combined Score 0.8957\n",
      "NN Score: 0.8910, LGBM Score: 0.8731, Combined Score 0.8966\n",
      "NN Score: 0.8910, LGBM Score: 0.8731, Combined Score 0.8966\n",
      "NN Score: 0.8910, LGBM Score: 0.8731, Combined Score 0.8957\n",
      "NN Score: 0.8910, LGBM Score: 0.8731, Combined Score 0.8939\n",
      "NN Score: 0.8910, LGBM Score: 0.8731, Combined Score 0.8910\n"
     ]
    }
   ],
   "source": [
    "for i in range(11):\n",
    "    m=i/10\n",
    "    NN=roc_auc_score(y_test,df[\"NNY\"])\n",
    "    LB=roc_auc_score(y_test,df[\"LBY\"])\n",
    "    com=roc_auc_score(y_test,df[\"NNY\"]*m +(1-m)*df[\"LBY\"])\n",
    "    print(f\"NN Score: {NN:.4f}, LGBM Score: {LB:.4f}, Combined Score {com:.4f}\")"
   ]
  },
  {
   "cell_type": "code",
   "execution_count": 22,
   "metadata": {},
   "outputs": [],
   "source": [
    "df[\"NNYPred\"]=(df[\"NNY\"]>=.5)*1\n",
    "df[\"LBYPred\"]=(df[\"LBY\"]>=.5)*1"
   ]
  },
  {
   "cell_type": "code",
   "execution_count": 23,
   "metadata": {},
   "outputs": [
    {
     "data": {
      "text/plain": [
       "'0.11.0'"
      ]
     },
     "execution_count": 23,
     "metadata": {},
     "output_type": "execute_result"
    }
   ],
   "source": [
    "import seaborn as sns\n",
    "sns.__version__"
   ]
  },
  {
   "cell_type": "code",
   "execution_count": 40,
   "metadata": {},
   "outputs": [
    {
     "data": {
      "text/html": [
       "<div>\n",
       "<style scoped>\n",
       "    .dataframe tbody tr th:only-of-type {\n",
       "        vertical-align: middle;\n",
       "    }\n",
       "\n",
       "    .dataframe tbody tr th {\n",
       "        vertical-align: top;\n",
       "    }\n",
       "\n",
       "    .dataframe thead th {\n",
       "        text-align: right;\n",
       "    }\n",
       "</style>\n",
       "<table border=\"1\" class=\"dataframe\">\n",
       "  <thead>\n",
       "    <tr style=\"text-align: right;\">\n",
       "      <th></th>\n",
       "      <th>Y</th>\n",
       "      <th>NNY</th>\n",
       "      <th>LBY</th>\n",
       "      <th>NNYPred</th>\n",
       "      <th>LBYPred</th>\n",
       "      <th>StrY</th>\n",
       "    </tr>\n",
       "  </thead>\n",
       "  <tbody>\n",
       "    <tr>\n",
       "      <th>0</th>\n",
       "      <td>0.0</td>\n",
       "      <td>0.001794</td>\n",
       "      <td>0.007577</td>\n",
       "      <td>0</td>\n",
       "      <td>0</td>\n",
       "      <td>False</td>\n",
       "    </tr>\n",
       "    <tr>\n",
       "      <th>1</th>\n",
       "      <td>1.0</td>\n",
       "      <td>0.518691</td>\n",
       "      <td>0.555571</td>\n",
       "      <td>1</td>\n",
       "      <td>1</td>\n",
       "      <td>True</td>\n",
       "    </tr>\n",
       "    <tr>\n",
       "      <th>2</th>\n",
       "      <td>1.0</td>\n",
       "      <td>0.870937</td>\n",
       "      <td>0.900357</td>\n",
       "      <td>1</td>\n",
       "      <td>1</td>\n",
       "      <td>True</td>\n",
       "    </tr>\n",
       "    <tr>\n",
       "      <th>3</th>\n",
       "      <td>0.0</td>\n",
       "      <td>0.150464</td>\n",
       "      <td>0.105071</td>\n",
       "      <td>0</td>\n",
       "      <td>0</td>\n",
       "      <td>False</td>\n",
       "    </tr>\n",
       "    <tr>\n",
       "      <th>4</th>\n",
       "      <td>0.0</td>\n",
       "      <td>0.330773</td>\n",
       "      <td>0.464396</td>\n",
       "      <td>0</td>\n",
       "      <td>0</td>\n",
       "      <td>False</td>\n",
       "    </tr>\n",
       "    <tr>\n",
       "      <th>...</th>\n",
       "      <td>...</td>\n",
       "      <td>...</td>\n",
       "      <td>...</td>\n",
       "      <td>...</td>\n",
       "      <td>...</td>\n",
       "      <td>...</td>\n",
       "    </tr>\n",
       "    <tr>\n",
       "      <th>21262</th>\n",
       "      <td>1.0</td>\n",
       "      <td>0.085637</td>\n",
       "      <td>0.084313</td>\n",
       "      <td>0</td>\n",
       "      <td>0</td>\n",
       "      <td>True</td>\n",
       "    </tr>\n",
       "    <tr>\n",
       "      <th>21263</th>\n",
       "      <td>1.0</td>\n",
       "      <td>0.040574</td>\n",
       "      <td>0.388851</td>\n",
       "      <td>0</td>\n",
       "      <td>0</td>\n",
       "      <td>True</td>\n",
       "    </tr>\n",
       "    <tr>\n",
       "      <th>21264</th>\n",
       "      <td>1.0</td>\n",
       "      <td>0.406512</td>\n",
       "      <td>0.594431</td>\n",
       "      <td>0</td>\n",
       "      <td>1</td>\n",
       "      <td>True</td>\n",
       "    </tr>\n",
       "    <tr>\n",
       "      <th>21265</th>\n",
       "      <td>0.0</td>\n",
       "      <td>0.123962</td>\n",
       "      <td>0.162227</td>\n",
       "      <td>0</td>\n",
       "      <td>0</td>\n",
       "      <td>False</td>\n",
       "    </tr>\n",
       "    <tr>\n",
       "      <th>21266</th>\n",
       "      <td>0.0</td>\n",
       "      <td>0.193832</td>\n",
       "      <td>0.547970</td>\n",
       "      <td>0</td>\n",
       "      <td>1</td>\n",
       "      <td>False</td>\n",
       "    </tr>\n",
       "  </tbody>\n",
       "</table>\n",
       "<p>21267 rows × 6 columns</p>\n",
       "</div>"
      ],
      "text/plain": [
       "         Y       NNY       LBY  NNYPred  LBYPred   StrY\n",
       "0      0.0  0.001794  0.007577        0        0  False\n",
       "1      1.0  0.518691  0.555571        1        1   True\n",
       "2      1.0  0.870937  0.900357        1        1   True\n",
       "3      0.0  0.150464  0.105071        0        0  False\n",
       "4      0.0  0.330773  0.464396        0        0  False\n",
       "...    ...       ...       ...      ...      ...    ...\n",
       "21262  1.0  0.085637  0.084313        0        0   True\n",
       "21263  1.0  0.040574  0.388851        0        0   True\n",
       "21264  1.0  0.406512  0.594431        0        1   True\n",
       "21265  0.0  0.123962  0.162227        0        0  False\n",
       "21266  0.0  0.193832  0.547970        0        1  False\n",
       "\n",
       "[21267 rows x 6 columns]"
      ]
     },
     "execution_count": 40,
     "metadata": {},
     "output_type": "execute_result"
    }
   ],
   "source": [
    "df"
   ]
  },
  {
   "cell_type": "code",
   "execution_count": 54,
   "metadata": {},
   "outputs": [
    {
     "data": {
      "text/plain": [
       "Text(0.5, 1, 'NN predicting wrong and LB predicting right, Nº occurences 1196')"
      ]
     },
     "execution_count": 54,
     "metadata": {},
     "output_type": "execute_result"
    },
    {
     "data": {
      "image/png": "[encoded data removed]",
      "text/plain": [
       "<Figure size 411.875x360 with 1 Axes>"
      ]
     },
     "metadata": {
      "needs_background": "light"
     },
     "output_type": "display_data"
    }
   ],
   "source": [
    "import seaborn as sns, numpy as np\n",
    "sns.displot(data=df.loc[(df[\"Y\"]!=df[\"NNYPred\"])&(df[\"Y\"]==df[\"LBYPred\"])],x=\"LBY\",hue=\"Y\")\n",
    "n=df.loc[(df[\"Y\"]!=df[\"NNYPred\"])&(df[\"Y\"]==df[\"LBYPred\"])].shape[0]\n",
    "plt.title(f\"NN predicting wrong and LB predicting right, Nº occurences {n}\")"
   ]
  },
  {
   "cell_type": "code",
   "execution_count": 51,
   "metadata": {},
   "outputs": [
    {
     "data": {
      "text/plain": [
       "Text(0.5, 1, 'LB predicting wrong and NN predicting right, Nº occurences 1565')"
      ]
     },
     "execution_count": 51,
     "metadata": {},
     "output_type": "execute_result"
    },
    {
     "data": {
      "image/png": "[encoded data removed]",
      "text/plain": [
       "<Figure size 411.875x360 with 1 Axes>"
      ]
     },
     "metadata": {
      "needs_background": "light"
     },
     "output_type": "display_data"
    }
   ],
   "source": [
    "sns.displot(data=df.loc[(df[\"Y\"]!=df[\"LBYPred\"])&(df[\"Y\"]==df[\"NNYPred\"])],x=\"NNY\",hue=\"Y\")\n",
    "n=df.loc[(df[\"Y\"]!=df[\"LBYPred\"])&(df[\"Y\"]==df[\"NNYPred\"])].shape[0]\n",
    "plt.title(f\"LB predicting wrong and NN predicting right, Nº occurences {n}\")"
   ]
  },
  {
   "cell_type": "code",
   "execution_count": 75,
   "metadata": {},
   "outputs": [
    {
     "ename": "AttributeError",
     "evalue": "'Booster' object has no attribute 'best_params'",
     "output_type": "error",
     "traceback": [
      "\u001b[1;31m---------------------------------------------------------------------------\u001b[0m",
      "\u001b[1;31mAttributeError\u001b[0m                            Traceback (most recent call last)",
      "\u001b[1;32m<ipython-input-75-23119dbbe7aa>\u001b[0m in \u001b[0;36m<module>\u001b[1;34m\u001b[0m\n\u001b[1;32m----> 1\u001b[1;33m \u001b[0mpickle_model\u001b[0m\u001b[1;33m.\u001b[0m\u001b[0mbest_params\u001b[0m\u001b[1;33m.\u001b[0m\u001b[0mitems\u001b[0m\u001b[1;33m\u001b[0m\u001b[1;33m\u001b[0m\u001b[0m\n\u001b[0m",
      "\u001b[1;31mAttributeError\u001b[0m: 'Booster' object has no attribute 'best_params'"
     ]
    }
   ],
   "source": [
    "pickle_model.best_params.items"
   ]
  },
  {
   "cell_type": "code",
   "execution_count": 68,
   "metadata": {},
   "outputs": [
    {
     "ename": "TypeError",
     "evalue": "'dict' object is not callable",
     "output_type": "error",
     "traceback": [
      "\u001b[1;31m---------------------------------------------------------------------------\u001b[0m",
      "\u001b[1;31mTypeError\u001b[0m                                 Traceback (most recent call last)",
      "\u001b[1;32m<ipython-input-68-2a04c5dc8558>\u001b[0m in \u001b[0;36m<module>\u001b[1;34m\u001b[0m\n\u001b[1;32m----> 1\u001b[1;33m \u001b[0mpickle_model\u001b[0m\u001b[1;33m.\u001b[0m\u001b[0mparams\u001b[0m\u001b[1;33m(\u001b[0m\u001b[0mnum_iteration\u001b[0m\u001b[1;33m=\u001b[0m\u001b[0mpickle_model\u001b[0m\u001b[1;33m.\u001b[0m\u001b[0mbest_iteration\u001b[0m\u001b[1;33m)\u001b[0m\u001b[1;33m\u001b[0m\u001b[1;33m\u001b[0m\u001b[0m\n\u001b[0m",
      "\u001b[1;31mTypeError\u001b[0m: 'dict' object is not callable"
     ]
    }
   ],
   "source": [
    "pickle_model.params(num_iteration=pickle_model.best_iteration)"
   ]
  }
 ],
 "metadata": {
  "kernelspec": {
   "display_name": "Python 3",
   "language": "python",
   "name": "python3"
  },
  "language_info": {
   "codemirror_mode": {
    "name": "ipython",
    "version": 3
   },
   "file_extension": ".py",
   "mimetype": "text/x-python",
   "name": "python",
   "nbconvert_exporter": "python",
   "pygments_lexer": "ipython3",
   "version": "3.7.3"
  },
  "toc": {
   "base_numbering": 1,
   "nav_menu": {},
   "number_sections": true,
   "sideBar": true,
   "skip_h1_title": false,
   "title_cell": "Table of Contents",
   "title_sidebar": "Contents",
   "toc_cell": false,
   "toc_position": {},
   "toc_section_display": true,
   "toc_window_display": false
  }
 },
 "nbformat": 4,
 "nbformat_minor": 4
}
