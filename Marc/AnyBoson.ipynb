{
 "cells": [
  {
   "cell_type": "code",
   "execution_count": 33,
   "metadata": {},
   "outputs": [],
   "source": [
    "'''Main'''\n",
    "import numpy as np\n",
    "import pandas as pd\n",
    "import os\n",
    "\n",
    "'''Data Viz'''\n",
    "import matplotlib.pyplot as plt\n",
    "import seaborn as sns\n",
    "color = sns.color_palette()\n",
    "import matplotlib as mpl\n",
    "\n",
    "%matplotlib inline\n",
    "\n",
    "'''Data Prep'''\n",
    "from sklearn.impute import SimpleImputer\n",
    "from sklearn.preprocessing import StandardScaler,RobustScaler\n",
    "from sklearn.compose import ColumnTransformer \n",
    "from scipy.stats import pearsonr \n",
    "from sklearn.model_selection import train_test_split\n",
    "from sklearn.model_selection import StratifiedKFold \n",
    "from sklearn.metrics import precision_recall_curve, average_precision_score,precision_score\n",
    "from sklearn.metrics import roc_curve, auc, roc_auc_score\n",
    "from sklearn.metrics import confusion_matrix, classification_report \n",
    "\n",
    "'''Algos'''\n",
    "from sklearn.linear_model import LogisticRegression\n",
    "from sklearn.ensemble import RandomForestClassifier\n",
    "import xgboost as xgb\n",
    "import lightgbm as lgb"
   ]
  },
  {
   "cell_type": "markdown",
   "metadata": {},
   "source": [
    "# Data Preparation"
   ]
  },
  {
   "cell_type": "markdown",
   "metadata": {
    "heading_collapsed": true
   },
   "source": [
    "## Acquire Data"
   ]
  },
  {
   "cell_type": "code",
   "execution_count": 42,
   "metadata": {
    "hidden": true
   },
   "outputs": [],
   "source": [
    "# We only get the train data set\n",
    "current_path = os.getcwd()+\"\\\\\"\n",
    "file = os.path.sep.join([\"train.csv\"])\n",
    "data = pd.read_csv(current_path + file)\n",
    "data=data.set_index(\"Id\")\n",
    "\n",
    "# signal is the target variable\n",
    "X=data.drop([\"signal\",\"BUTTER\"], axis=1) # Droping BUTTER variable as is IRRELEVANT\n",
    "y=pd.DataFrame(data[\"signal\"])\n"
   ]
  },
  {
   "cell_type": "markdown",
   "metadata": {
    "heading_collapsed": true
   },
   "source": [
    "## Explore Data"
   ]
  },
  {
   "cell_type": "code",
   "execution_count": 43,
   "metadata": {
    "hidden": true
   },
   "outputs": [
    {
     "data": {
      "text/plain": [
       "(212662, 14)"
      ]
     },
     "execution_count": 43,
     "metadata": {},
     "output_type": "execute_result"
    }
   ],
   "source": [
    "X.shape"
   ]
  },
  {
   "cell_type": "code",
   "execution_count": 45,
   "metadata": {
    "hidden": true
   },
   "outputs": [
    {
     "data": {
      "text/html": [
       "<div>\n",
       "<style scoped>\n",
       "    .dataframe tbody tr th:only-of-type {\n",
       "        vertical-align: middle;\n",
       "    }\n",
       "\n",
       "    .dataframe tbody tr th {\n",
       "        vertical-align: top;\n",
       "    }\n",
       "\n",
       "    .dataframe thead th {\n",
       "        text-align: right;\n",
       "    }\n",
       "</style>\n",
       "<table border=\"1\" class=\"dataframe\">\n",
       "  <thead>\n",
       "    <tr style=\"text-align: right;\">\n",
       "      <th></th>\n",
       "      <th>B_OWNPV_CHI2</th>\n",
       "      <th>B_IPCHI2_OWNPV</th>\n",
       "      <th>B_FDCHI2_OWNPV</th>\n",
       "      <th>B_DIRA_OWNPV</th>\n",
       "      <th>B_PT</th>\n",
       "      <th>Kst_892_0_IP_OWNPV</th>\n",
       "      <th>Kst_892_0_cosThetaH</th>\n",
       "      <th>Kplus_IP_OWNPV</th>\n",
       "      <th>Kplus_P</th>\n",
       "      <th>piminus_IP_OWNPV</th>\n",
       "      <th>piminus_P</th>\n",
       "      <th>gamma_PT</th>\n",
       "      <th>piminus_ETA</th>\n",
       "      <th>Kplus_ETA</th>\n",
       "    </tr>\n",
       "    <tr>\n",
       "      <th>Id</th>\n",
       "      <th></th>\n",
       "      <th></th>\n",
       "      <th></th>\n",
       "      <th></th>\n",
       "      <th></th>\n",
       "      <th></th>\n",
       "      <th></th>\n",
       "      <th></th>\n",
       "      <th></th>\n",
       "      <th></th>\n",
       "      <th></th>\n",
       "      <th></th>\n",
       "      <th></th>\n",
       "      <th></th>\n",
       "    </tr>\n",
       "  </thead>\n",
       "  <tbody>\n",
       "    <tr>\n",
       "      <th>0</th>\n",
       "      <td>28.878847</td>\n",
       "      <td>2.662533</td>\n",
       "      <td>2924.690991</td>\n",
       "      <td>0.999997</td>\n",
       "      <td>19085.568945</td>\n",
       "      <td>0.569198</td>\n",
       "      <td>-0.575502</td>\n",
       "      <td>0.581565</td>\n",
       "      <td>66850.893711</td>\n",
       "      <td>0.637969</td>\n",
       "      <td>14298.486178</td>\n",
       "      <td>7940.694301</td>\n",
       "      <td>2.628526</td>\n",
       "      <td>2.680116</td>\n",
       "    </tr>\n",
       "    <tr>\n",
       "      <th>1</th>\n",
       "      <td>34.233566</td>\n",
       "      <td>0.092746</td>\n",
       "      <td>346.948714</td>\n",
       "      <td>0.999997</td>\n",
       "      <td>6631.244546</td>\n",
       "      <td>0.248707</td>\n",
       "      <td>-0.615941</td>\n",
       "      <td>0.277898</td>\n",
       "      <td>39274.475071</td>\n",
       "      <td>0.148815</td>\n",
       "      <td>11553.163934</td>\n",
       "      <td>3904.681337</td>\n",
       "      <td>3.292504</td>\n",
       "      <td>3.085754</td>\n",
       "    </tr>\n",
       "    <tr>\n",
       "      <th>2</th>\n",
       "      <td>36.113632</td>\n",
       "      <td>2.442423</td>\n",
       "      <td>238.553023</td>\n",
       "      <td>0.999986</td>\n",
       "      <td>7740.918989</td>\n",
       "      <td>0.222347</td>\n",
       "      <td>0.249383</td>\n",
       "      <td>0.216576</td>\n",
       "      <td>27757.153899</td>\n",
       "      <td>0.249840</td>\n",
       "      <td>24081.196003</td>\n",
       "      <td>4738.891687</td>\n",
       "      <td>3.433676</td>\n",
       "      <td>3.121906</td>\n",
       "    </tr>\n",
       "    <tr>\n",
       "      <th>3</th>\n",
       "      <td>14.286133</td>\n",
       "      <td>6.337556</td>\n",
       "      <td>227.375132</td>\n",
       "      <td>0.999806</td>\n",
       "      <td>6740.281614</td>\n",
       "      <td>0.347316</td>\n",
       "      <td>0.591884</td>\n",
       "      <td>0.306927</td>\n",
       "      <td>10593.207077</td>\n",
       "      <td>0.400748</td>\n",
       "      <td>11343.521945</td>\n",
       "      <td>3308.943750</td>\n",
       "      <td>2.291867</td>\n",
       "      <td>2.200712</td>\n",
       "    </tr>\n",
       "    <tr>\n",
       "      <th>4</th>\n",
       "      <td>60.474274</td>\n",
       "      <td>7.632751</td>\n",
       "      <td>106.730650</td>\n",
       "      <td>0.999905</td>\n",
       "      <td>5556.388794</td>\n",
       "      <td>0.204273</td>\n",
       "      <td>0.655850</td>\n",
       "      <td>0.196600</td>\n",
       "      <td>11801.249543</td>\n",
       "      <td>0.223101</td>\n",
       "      <td>25940.693317</td>\n",
       "      <td>4026.326871</td>\n",
       "      <td>3.290073</td>\n",
       "      <td>3.281829</td>\n",
       "    </tr>\n",
       "  </tbody>\n",
       "</table>\n",
       "</div>"
      ],
      "text/plain": [
       "                       B_OWNPV_CHI2                    B_IPCHI2_OWNPV   \\\n",
       "Id                                                                       \n",
       "0                          28.878847                          2.662533   \n",
       "1                          34.233566                          0.092746   \n",
       "2                          36.113632                          2.442423   \n",
       "3                          14.286133                          6.337556   \n",
       "4                          60.474274                          7.632751   \n",
       "\n",
       "                     B_FDCHI2_OWNPV                      B_DIRA_OWNPV   \\\n",
       "Id                                                                       \n",
       "0                        2924.690991                          0.999997   \n",
       "1                         346.948714                          0.999997   \n",
       "2                         238.553023                          0.999986   \n",
       "3                         227.375132                          0.999806   \n",
       "4                         106.730650                          0.999905   \n",
       "\n",
       "                               B_PT                Kst_892_0_IP_OWNPV   \\\n",
       "Id                                                                       \n",
       "0                       19085.568945                          0.569198   \n",
       "1                        6631.244546                          0.248707   \n",
       "2                        7740.918989                          0.222347   \n",
       "3                        6740.281614                          0.347316   \n",
       "4                        5556.388794                          0.204273   \n",
       "\n",
       "                Kst_892_0_cosThetaH                    Kplus_IP_OWNPV   \\\n",
       "Id                                                                       \n",
       "0                          -0.575502                          0.581565   \n",
       "1                          -0.615941                          0.277898   \n",
       "2                           0.249383                          0.216576   \n",
       "3                           0.591884                          0.306927   \n",
       "4                           0.655850                          0.196600   \n",
       "\n",
       "                            Kplus_P                  piminus_IP_OWNPV   \\\n",
       "Id                                                                       \n",
       "0                       66850.893711                          0.637969   \n",
       "1                       39274.475071                          0.148815   \n",
       "2                       27757.153899                          0.249840   \n",
       "3                       10593.207077                          0.400748   \n",
       "4                       11801.249543                          0.223101   \n",
       "\n",
       "                          piminus_P                          gamma_PT   \\\n",
       "Id                                                                       \n",
       "0                       14298.486178                       7940.694301   \n",
       "1                       11553.163934                       3904.681337   \n",
       "2                       24081.196003                       4738.891687   \n",
       "3                       11343.521945                       3308.943750   \n",
       "4                       25940.693317                       4026.326871   \n",
       "\n",
       "                        piminus_ETA                         Kplus_ETA   \n",
       "Id                                                                      \n",
       "0                           2.628526                          2.680116  \n",
       "1                           3.292504                          3.085754  \n",
       "2                           3.433676                          3.121906  \n",
       "3                           2.291867                          2.200712  \n",
       "4                           3.290073                          3.281829  "
      ]
     },
     "execution_count": 45,
     "metadata": {},
     "output_type": "execute_result"
    }
   ],
   "source": [
    "X.head()"
   ]
  },
  {
   "cell_type": "code",
   "execution_count": 46,
   "metadata": {
    "hidden": true
   },
   "outputs": [
    {
     "data": {
      "text/html": [
       "<div>\n",
       "<style scoped>\n",
       "    .dataframe tbody tr th:only-of-type {\n",
       "        vertical-align: middle;\n",
       "    }\n",
       "\n",
       "    .dataframe tbody tr th {\n",
       "        vertical-align: top;\n",
       "    }\n",
       "\n",
       "    .dataframe thead th {\n",
       "        text-align: right;\n",
       "    }\n",
       "</style>\n",
       "<table border=\"1\" class=\"dataframe\">\n",
       "  <thead>\n",
       "    <tr style=\"text-align: right;\">\n",
       "      <th></th>\n",
       "      <th>B_OWNPV_CHI2</th>\n",
       "      <th>B_IPCHI2_OWNPV</th>\n",
       "      <th>B_FDCHI2_OWNPV</th>\n",
       "      <th>B_DIRA_OWNPV</th>\n",
       "      <th>B_PT</th>\n",
       "      <th>Kst_892_0_IP_OWNPV</th>\n",
       "      <th>Kst_892_0_cosThetaH</th>\n",
       "      <th>Kplus_IP_OWNPV</th>\n",
       "      <th>Kplus_P</th>\n",
       "      <th>piminus_IP_OWNPV</th>\n",
       "      <th>piminus_P</th>\n",
       "      <th>gamma_PT</th>\n",
       "      <th>piminus_ETA</th>\n",
       "      <th>Kplus_ETA</th>\n",
       "    </tr>\n",
       "  </thead>\n",
       "  <tbody>\n",
       "    <tr>\n",
       "      <th>count</th>\n",
       "      <td>212662.000000</td>\n",
       "      <td>212662.000000</td>\n",
       "      <td>2.126620e+05</td>\n",
       "      <td>212662.000000</td>\n",
       "      <td>212662.000000</td>\n",
       "      <td>212662.000000</td>\n",
       "      <td>212662.000000</td>\n",
       "      <td>212662.000000</td>\n",
       "      <td>212662.000000</td>\n",
       "      <td>212662.000000</td>\n",
       "      <td>212662.000000</td>\n",
       "      <td>212662.000000</td>\n",
       "      <td>212662.000000</td>\n",
       "      <td>212662.000000</td>\n",
       "    </tr>\n",
       "    <tr>\n",
       "      <th>mean</th>\n",
       "      <td>30.917255</td>\n",
       "      <td>2.831039</td>\n",
       "      <td>3.233108e+03</td>\n",
       "      <td>0.999962</td>\n",
       "      <td>9260.664335</td>\n",
       "      <td>0.573487</td>\n",
       "      <td>0.217185</td>\n",
       "      <td>0.581601</td>\n",
       "      <td>29740.464140</td>\n",
       "      <td>0.595178</td>\n",
       "      <td>23615.399265</td>\n",
       "      <td>5781.262866</td>\n",
       "      <td>3.149949</td>\n",
       "      <td>3.166745</td>\n",
       "    </tr>\n",
       "    <tr>\n",
       "      <th>std</th>\n",
       "      <td>15.392944</td>\n",
       "      <td>2.216654</td>\n",
       "      <td>1.498588e+04</td>\n",
       "      <td>0.000068</td>\n",
       "      <td>3997.768903</td>\n",
       "      <td>0.417256</td>\n",
       "      <td>0.484779</td>\n",
       "      <td>0.437939</td>\n",
       "      <td>19239.085505</td>\n",
       "      <td>0.460742</td>\n",
       "      <td>16424.509733</td>\n",
       "      <td>2669.985983</td>\n",
       "      <td>0.520862</td>\n",
       "      <td>0.527135</td>\n",
       "    </tr>\n",
       "    <tr>\n",
       "      <th>min</th>\n",
       "      <td>0.204442</td>\n",
       "      <td>0.000038</td>\n",
       "      <td>3.138746e+01</td>\n",
       "      <td>0.999500</td>\n",
       "      <td>2500.513932</td>\n",
       "      <td>0.200005</td>\n",
       "      <td>-0.799991</td>\n",
       "      <td>0.064412</td>\n",
       "      <td>3791.228140</td>\n",
       "      <td>0.053244</td>\n",
       "      <td>4952.118133</td>\n",
       "      <td>3000.031840</td>\n",
       "      <td>2.000000</td>\n",
       "      <td>2.000227</td>\n",
       "    </tr>\n",
       "    <tr>\n",
       "      <th>25%</th>\n",
       "      <td>19.250309</td>\n",
       "      <td>0.925412</td>\n",
       "      <td>3.851386e+02</td>\n",
       "      <td>0.999961</td>\n",
       "      <td>6527.503234</td>\n",
       "      <td>0.289879</td>\n",
       "      <td>-0.170048</td>\n",
       "      <td>0.292138</td>\n",
       "      <td>15356.298104</td>\n",
       "      <td>0.294970</td>\n",
       "      <td>11921.223058</td>\n",
       "      <td>3887.726863</td>\n",
       "      <td>2.752651</td>\n",
       "      <td>2.760779</td>\n",
       "    </tr>\n",
       "    <tr>\n",
       "      <th>50%</th>\n",
       "      <td>29.615744</td>\n",
       "      <td>2.287488</td>\n",
       "      <td>9.017917e+02</td>\n",
       "      <td>0.999989</td>\n",
       "      <td>8336.548930</td>\n",
       "      <td>0.429935</td>\n",
       "      <td>0.241336</td>\n",
       "      <td>0.436257</td>\n",
       "      <td>24379.336211</td>\n",
       "      <td>0.444553</td>\n",
       "      <td>18693.423754</td>\n",
       "      <td>4986.055993</td>\n",
       "      <td>3.128397</td>\n",
       "      <td>3.151240</td>\n",
       "    </tr>\n",
       "    <tr>\n",
       "      <th>75%</th>\n",
       "      <td>41.071903</td>\n",
       "      <td>4.426295</td>\n",
       "      <td>2.564877e+03</td>\n",
       "      <td>0.999998</td>\n",
       "      <td>11065.050625</td>\n",
       "      <td>0.703082</td>\n",
       "      <td>0.634683</td>\n",
       "      <td>0.713462</td>\n",
       "      <td>38994.138332</td>\n",
       "      <td>0.731249</td>\n",
       "      <td>30209.322530</td>\n",
       "      <td>6770.025065</td>\n",
       "      <td>3.526473</td>\n",
       "      <td>3.551590</td>\n",
       "    </tr>\n",
       "    <tr>\n",
       "      <th>max</th>\n",
       "      <td>108.067413</td>\n",
       "      <td>7.999920</td>\n",
       "      <td>1.971087e+06</td>\n",
       "      <td>1.000000</td>\n",
       "      <td>56327.186960</td>\n",
       "      <td>2.999445</td>\n",
       "      <td>0.999998</td>\n",
       "      <td>4.376841</td>\n",
       "      <td>99995.109721</td>\n",
       "      <td>4.439294</td>\n",
       "      <td>99982.936241</td>\n",
       "      <td>52715.201472</td>\n",
       "      <td>4.499751</td>\n",
       "      <td>4.499966</td>\n",
       "    </tr>\n",
       "  </tbody>\n",
       "</table>\n",
       "</div>"
      ],
      "text/plain": [
       "                          B_OWNPV_CHI2                    B_IPCHI2_OWNPV   \\\n",
       "count                     212662.000000                     212662.000000   \n",
       "mean                          30.917255                          2.831039   \n",
       "std                           15.392944                          2.216654   \n",
       "min                            0.204442                          0.000038   \n",
       "25%                           19.250309                          0.925412   \n",
       "50%                           29.615744                          2.287488   \n",
       "75%                           41.071903                          4.426295   \n",
       "max                          108.067413                          7.999920   \n",
       "\n",
       "                        B_FDCHI2_OWNPV                      B_DIRA_OWNPV   \\\n",
       "count                      2.126620e+05                     212662.000000   \n",
       "mean                       3.233108e+03                          0.999962   \n",
       "std                        1.498588e+04                          0.000068   \n",
       "min                        3.138746e+01                          0.999500   \n",
       "25%                        3.851386e+02                          0.999961   \n",
       "50%                        9.017917e+02                          0.999989   \n",
       "75%                        2.564877e+03                          0.999998   \n",
       "max                        1.971087e+06                          1.000000   \n",
       "\n",
       "                                  B_PT                Kst_892_0_IP_OWNPV   \\\n",
       "count                     212662.000000                     212662.000000   \n",
       "mean                        9260.664335                          0.573487   \n",
       "std                         3997.768903                          0.417256   \n",
       "min                         2500.513932                          0.200005   \n",
       "25%                         6527.503234                          0.289879   \n",
       "50%                         8336.548930                          0.429935   \n",
       "75%                        11065.050625                          0.703082   \n",
       "max                        56327.186960                          2.999445   \n",
       "\n",
       "                   Kst_892_0_cosThetaH                    Kplus_IP_OWNPV   \\\n",
       "count                     212662.000000                     212662.000000   \n",
       "mean                           0.217185                          0.581601   \n",
       "std                            0.484779                          0.437939   \n",
       "min                           -0.799991                          0.064412   \n",
       "25%                           -0.170048                          0.292138   \n",
       "50%                            0.241336                          0.436257   \n",
       "75%                            0.634683                          0.713462   \n",
       "max                            0.999998                          4.376841   \n",
       "\n",
       "                               Kplus_P                  piminus_IP_OWNPV   \\\n",
       "count                     212662.000000                     212662.000000   \n",
       "mean                       29740.464140                          0.595178   \n",
       "std                        19239.085505                          0.460742   \n",
       "min                         3791.228140                          0.053244   \n",
       "25%                        15356.298104                          0.294970   \n",
       "50%                        24379.336211                          0.444553   \n",
       "75%                        38994.138332                          0.731249   \n",
       "max                        99995.109721                          4.439294   \n",
       "\n",
       "                             piminus_P                          gamma_PT   \\\n",
       "count                     212662.000000                     212662.000000   \n",
       "mean                       23615.399265                       5781.262866   \n",
       "std                        16424.509733                       2669.985983   \n",
       "min                         4952.118133                       3000.031840   \n",
       "25%                        11921.223058                       3887.726863   \n",
       "50%                        18693.423754                       4986.055993   \n",
       "75%                        30209.322530                       6770.025065   \n",
       "max                        99982.936241                      52715.201472   \n",
       "\n",
       "                           piminus_ETA                         Kplus_ETA   \n",
       "count                     212662.000000                     212662.000000  \n",
       "mean                           3.149949                          3.166745  \n",
       "std                            0.520862                          0.527135  \n",
       "min                            2.000000                          2.000227  \n",
       "25%                            2.752651                          2.760779  \n",
       "50%                            3.128397                          3.151240  \n",
       "75%                            3.526473                          3.551590  \n",
       "max                            4.499751                          4.499966  "
      ]
     },
     "execution_count": 46,
     "metadata": {},
     "output_type": "execute_result"
    }
   ],
   "source": [
    "X.describe()"
   ]
  },
  {
   "cell_type": "code",
   "execution_count": 47,
   "metadata": {
    "hidden": true
   },
   "outputs": [
    {
     "data": {
      "text/plain": [
       "signal\n",
       "0.0    66.599581\n",
       "1.0    33.400419\n",
       "Name: signal, dtype: float64"
      ]
     },
     "execution_count": 47,
     "metadata": {},
     "output_type": "execute_result"
    }
   ],
   "source": [
    "y.groupby('signal').signal.count()/y[\"signal\"].count().sum()*100"
   ]
  },
  {
   "cell_type": "markdown",
   "metadata": {
    "heading_collapsed": true
   },
   "source": [
    "## Scaling the data"
   ]
  },
  {
   "cell_type": "code",
   "execution_count": 48,
   "metadata": {
    "hidden": true
   },
   "outputs": [],
   "source": [
    "#Standarazing all of the signal variables we could normalize them but this will be likely affected by the precense of outliers\n",
    "X_scaled=X.copy()\n",
    "scaler = StandardScaler() \n",
    "X_scaled[X_scaled.columns.values] = scaler.fit_transform(X_scaled[X_scaled.columns.values])"
   ]
  },
  {
   "cell_type": "code",
   "execution_count": 49,
   "metadata": {
    "hidden": true
   },
   "outputs": [
    {
     "data": {
      "text/html": [
       "<div>\n",
       "<style scoped>\n",
       "    .dataframe tbody tr th:only-of-type {\n",
       "        vertical-align: middle;\n",
       "    }\n",
       "\n",
       "    .dataframe tbody tr th {\n",
       "        vertical-align: top;\n",
       "    }\n",
       "\n",
       "    .dataframe thead th {\n",
       "        text-align: right;\n",
       "    }\n",
       "</style>\n",
       "<table border=\"1\" class=\"dataframe\">\n",
       "  <thead>\n",
       "    <tr style=\"text-align: right;\">\n",
       "      <th></th>\n",
       "      <th>B_OWNPV_CHI2</th>\n",
       "      <th>B_IPCHI2_OWNPV</th>\n",
       "      <th>B_FDCHI2_OWNPV</th>\n",
       "      <th>B_DIRA_OWNPV</th>\n",
       "      <th>B_PT</th>\n",
       "      <th>Kst_892_0_IP_OWNPV</th>\n",
       "      <th>Kst_892_0_cosThetaH</th>\n",
       "      <th>Kplus_IP_OWNPV</th>\n",
       "      <th>Kplus_P</th>\n",
       "      <th>piminus_IP_OWNPV</th>\n",
       "      <th>piminus_P</th>\n",
       "      <th>gamma_PT</th>\n",
       "      <th>piminus_ETA</th>\n",
       "      <th>Kplus_ETA</th>\n",
       "    </tr>\n",
       "  </thead>\n",
       "  <tbody>\n",
       "    <tr>\n",
       "      <th>count</th>\n",
       "      <td>2.126620e+05</td>\n",
       "      <td>2.126620e+05</td>\n",
       "      <td>2.126620e+05</td>\n",
       "      <td>2.126620e+05</td>\n",
       "      <td>2.126620e+05</td>\n",
       "      <td>2.126620e+05</td>\n",
       "      <td>2.126620e+05</td>\n",
       "      <td>2.126620e+05</td>\n",
       "      <td>2.126620e+05</td>\n",
       "      <td>2.126620e+05</td>\n",
       "      <td>2.126620e+05</td>\n",
       "      <td>2.126620e+05</td>\n",
       "      <td>2.126620e+05</td>\n",
       "      <td>2.126620e+05</td>\n",
       "    </tr>\n",
       "    <tr>\n",
       "      <th>mean</th>\n",
       "      <td>-7.689786e-17</td>\n",
       "      <td>-2.424404e-16</td>\n",
       "      <td>1.474989e-17</td>\n",
       "      <td>6.123766e-14</td>\n",
       "      <td>5.696404e-16</td>\n",
       "      <td>7.085084e-17</td>\n",
       "      <td>-1.214572e-17</td>\n",
       "      <td>1.904297e-16</td>\n",
       "      <td>-1.719373e-16</td>\n",
       "      <td>-1.490377e-16</td>\n",
       "      <td>-3.372423e-16</td>\n",
       "      <td>3.115288e-16</td>\n",
       "      <td>-7.637162e-16</td>\n",
       "      <td>4.556852e-17</td>\n",
       "    </tr>\n",
       "    <tr>\n",
       "      <th>std</th>\n",
       "      <td>1.000002e+00</td>\n",
       "      <td>1.000002e+00</td>\n",
       "      <td>1.000002e+00</td>\n",
       "      <td>1.000002e+00</td>\n",
       "      <td>1.000002e+00</td>\n",
       "      <td>1.000002e+00</td>\n",
       "      <td>1.000002e+00</td>\n",
       "      <td>1.000002e+00</td>\n",
       "      <td>1.000002e+00</td>\n",
       "      <td>1.000002e+00</td>\n",
       "      <td>1.000002e+00</td>\n",
       "      <td>1.000002e+00</td>\n",
       "      <td>1.000002e+00</td>\n",
       "      <td>1.000002e+00</td>\n",
       "    </tr>\n",
       "    <tr>\n",
       "      <th>min</th>\n",
       "      <td>-1.995257e+00</td>\n",
       "      <td>-1.277154e+00</td>\n",
       "      <td>-2.136496e-01</td>\n",
       "      <td>-6.768457e+00</td>\n",
       "      <td>-1.690985e+00</td>\n",
       "      <td>-8.950950e-01</td>\n",
       "      <td>-2.098233e+00</td>\n",
       "      <td>-1.180966e+00</td>\n",
       "      <td>-1.348780e+00</td>\n",
       "      <td>-1.176222e+00</td>\n",
       "      <td>-1.136309e+00</td>\n",
       "      <td>-1.041667e+00</td>\n",
       "      <td>-2.207787e+00</td>\n",
       "      <td>-2.212948e+00</td>\n",
       "    </tr>\n",
       "    <tr>\n",
       "      <th>25%</th>\n",
       "      <td>-7.579429e-01</td>\n",
       "      <td>-8.596884e-01</td>\n",
       "      <td>-1.900439e-01</td>\n",
       "      <td>-2.022793e-02</td>\n",
       "      <td>-6.836732e-01</td>\n",
       "      <td>-6.796995e-01</td>\n",
       "      <td>-7.987847e-01</td>\n",
       "      <td>-6.609699e-01</td>\n",
       "      <td>-7.476551e-01</td>\n",
       "      <td>-6.515771e-01</td>\n",
       "      <td>-7.119971e-01</td>\n",
       "      <td>-7.091949e-01</td>\n",
       "      <td>-7.627739e-01</td>\n",
       "      <td>-7.701401e-01</td>\n",
       "    </tr>\n",
       "    <tr>\n",
       "      <th>50%</th>\n",
       "      <td>-8.455265e-02</td>\n",
       "      <td>-2.452133e-01</td>\n",
       "      <td>-1.555679e-01</td>\n",
       "      <td>3.952731e-01</td>\n",
       "      <td>-2.311583e-01</td>\n",
       "      <td>-3.440399e-01</td>\n",
       "      <td>4.981935e-02</td>\n",
       "      <td>-3.318836e-01</td>\n",
       "      <td>-2.786588e-01</td>\n",
       "      <td>-3.269188e-01</td>\n",
       "      <td>-2.996733e-01</td>\n",
       "      <td>-2.978326e-01</td>\n",
       "      <td>-4.137858e-02</td>\n",
       "      <td>-2.941407e-02</td>\n",
       "    </tr>\n",
       "    <tr>\n",
       "      <th>75%</th>\n",
       "      <td>6.596966e-01</td>\n",
       "      <td>7.196702e-01</td>\n",
       "      <td>-4.459077e-02</td>\n",
       "      <td>5.145738e-01</td>\n",
       "      <td>4.513494e-01</td>\n",
       "      <td>3.105881e-01</td>\n",
       "      <td>8.612174e-01</td>\n",
       "      <td>3.010957e-01</td>\n",
       "      <td>4.809842e-01</td>\n",
       "      <td>2.953312e-01</td>\n",
       "      <td>4.014694e-01</td>\n",
       "      <td>3.703257e-01</td>\n",
       "      <td>7.228877e-01</td>\n",
       "      <td>7.300715e-01</td>\n",
       "    </tr>\n",
       "    <tr>\n",
       "      <th>max</th>\n",
       "      <td>5.012059e+00</td>\n",
       "      <td>2.331845e+00</td>\n",
       "      <td>1.313142e+02</td>\n",
       "      <td>5.505127e-01</td>\n",
       "      <td>1.177323e+01</td>\n",
       "      <td>5.814091e+00</td>\n",
       "      <td>1.614789e+00</td>\n",
       "      <td>8.666168e+00</td>\n",
       "      <td>3.651671e+00</td>\n",
       "      <td>8.343331e+00</td>\n",
       "      <td>4.649619e+00</td>\n",
       "      <td>1.757839e+01</td>\n",
       "      <td>2.591483e+00</td>\n",
       "      <td>2.529191e+00</td>\n",
       "    </tr>\n",
       "  </tbody>\n",
       "</table>\n",
       "</div>"
      ],
      "text/plain": [
       "                          B_OWNPV_CHI2                    B_IPCHI2_OWNPV   \\\n",
       "count                      2.126620e+05                      2.126620e+05   \n",
       "mean                      -7.689786e-17                     -2.424404e-16   \n",
       "std                        1.000002e+00                      1.000002e+00   \n",
       "min                       -1.995257e+00                     -1.277154e+00   \n",
       "25%                       -7.579429e-01                     -8.596884e-01   \n",
       "50%                       -8.455265e-02                     -2.452133e-01   \n",
       "75%                        6.596966e-01                      7.196702e-01   \n",
       "max                        5.012059e+00                      2.331845e+00   \n",
       "\n",
       "                        B_FDCHI2_OWNPV                      B_DIRA_OWNPV   \\\n",
       "count                      2.126620e+05                      2.126620e+05   \n",
       "mean                       1.474989e-17                      6.123766e-14   \n",
       "std                        1.000002e+00                      1.000002e+00   \n",
       "min                       -2.136496e-01                     -6.768457e+00   \n",
       "25%                       -1.900439e-01                     -2.022793e-02   \n",
       "50%                       -1.555679e-01                      3.952731e-01   \n",
       "75%                       -4.459077e-02                      5.145738e-01   \n",
       "max                        1.313142e+02                      5.505127e-01   \n",
       "\n",
       "                                  B_PT                Kst_892_0_IP_OWNPV   \\\n",
       "count                      2.126620e+05                      2.126620e+05   \n",
       "mean                       5.696404e-16                      7.085084e-17   \n",
       "std                        1.000002e+00                      1.000002e+00   \n",
       "min                       -1.690985e+00                     -8.950950e-01   \n",
       "25%                       -6.836732e-01                     -6.796995e-01   \n",
       "50%                       -2.311583e-01                     -3.440399e-01   \n",
       "75%                        4.513494e-01                      3.105881e-01   \n",
       "max                        1.177323e+01                      5.814091e+00   \n",
       "\n",
       "                   Kst_892_0_cosThetaH                    Kplus_IP_OWNPV   \\\n",
       "count                      2.126620e+05                      2.126620e+05   \n",
       "mean                      -1.214572e-17                      1.904297e-16   \n",
       "std                        1.000002e+00                      1.000002e+00   \n",
       "min                       -2.098233e+00                     -1.180966e+00   \n",
       "25%                       -7.987847e-01                     -6.609699e-01   \n",
       "50%                        4.981935e-02                     -3.318836e-01   \n",
       "75%                        8.612174e-01                      3.010957e-01   \n",
       "max                        1.614789e+00                      8.666168e+00   \n",
       "\n",
       "                               Kplus_P                  piminus_IP_OWNPV   \\\n",
       "count                      2.126620e+05                      2.126620e+05   \n",
       "mean                      -1.719373e-16                     -1.490377e-16   \n",
       "std                        1.000002e+00                      1.000002e+00   \n",
       "min                       -1.348780e+00                     -1.176222e+00   \n",
       "25%                       -7.476551e-01                     -6.515771e-01   \n",
       "50%                       -2.786588e-01                     -3.269188e-01   \n",
       "75%                        4.809842e-01                      2.953312e-01   \n",
       "max                        3.651671e+00                      8.343331e+00   \n",
       "\n",
       "                             piminus_P                          gamma_PT   \\\n",
       "count                      2.126620e+05                      2.126620e+05   \n",
       "mean                      -3.372423e-16                      3.115288e-16   \n",
       "std                        1.000002e+00                      1.000002e+00   \n",
       "min                       -1.136309e+00                     -1.041667e+00   \n",
       "25%                       -7.119971e-01                     -7.091949e-01   \n",
       "50%                       -2.996733e-01                     -2.978326e-01   \n",
       "75%                        4.014694e-01                      3.703257e-01   \n",
       "max                        4.649619e+00                      1.757839e+01   \n",
       "\n",
       "                           piminus_ETA                         Kplus_ETA   \n",
       "count                      2.126620e+05                      2.126620e+05  \n",
       "mean                      -7.637162e-16                      4.556852e-17  \n",
       "std                        1.000002e+00                      1.000002e+00  \n",
       "min                       -2.207787e+00                     -2.212948e+00  \n",
       "25%                       -7.627739e-01                     -7.701401e-01  \n",
       "50%                       -4.137858e-02                     -2.941407e-02  \n",
       "75%                        7.228877e-01                      7.300715e-01  \n",
       "max                        2.591483e+00                      2.529191e+00  "
      ]
     },
     "execution_count": 49,
     "metadata": {},
     "output_type": "execute_result"
    }
   ],
   "source": [
    "X_scaled.describe()"
   ]
  },
  {
   "cell_type": "markdown",
   "metadata": {
    "hidden": true
   },
   "source": [
    "Using **Robust Scaling** to avoid outliers effect when scaling\n",
    "\n",
    "More info in: https://scikit-learn.org/stable/auto_examples/preprocessing/plot_all_scaling.html"
   ]
  },
  {
   "cell_type": "code",
   "execution_count": 50,
   "metadata": {
    "hidden": true
   },
   "outputs": [],
   "source": [
    "#Robust scaled to avoid outilers effect when normalizing: \n",
    "X_Rscaled=X.copy()\n",
    "Rscaler = RobustScaler() \n",
    "X_Rscaled[X_Rscaled.columns.values] = Rscaler.fit_transform(X_Rscaled[X_Rscaled.columns.values])"
   ]
  },
  {
   "cell_type": "code",
   "execution_count": 51,
   "metadata": {
    "hidden": true
   },
   "outputs": [
    {
     "data": {
      "text/html": [
       "<div>\n",
       "<style scoped>\n",
       "    .dataframe tbody tr th:only-of-type {\n",
       "        vertical-align: middle;\n",
       "    }\n",
       "\n",
       "    .dataframe tbody tr th {\n",
       "        vertical-align: top;\n",
       "    }\n",
       "\n",
       "    .dataframe thead th {\n",
       "        text-align: right;\n",
       "    }\n",
       "</style>\n",
       "<table border=\"1\" class=\"dataframe\">\n",
       "  <thead>\n",
       "    <tr style=\"text-align: right;\">\n",
       "      <th></th>\n",
       "      <th>B_OWNPV_CHI2</th>\n",
       "      <th>B_IPCHI2_OWNPV</th>\n",
       "      <th>B_FDCHI2_OWNPV</th>\n",
       "      <th>B_DIRA_OWNPV</th>\n",
       "      <th>B_PT</th>\n",
       "      <th>Kst_892_0_IP_OWNPV</th>\n",
       "      <th>Kst_892_0_cosThetaH</th>\n",
       "      <th>Kplus_IP_OWNPV</th>\n",
       "      <th>Kplus_P</th>\n",
       "      <th>piminus_IP_OWNPV</th>\n",
       "      <th>piminus_P</th>\n",
       "      <th>gamma_PT</th>\n",
       "      <th>piminus_ETA</th>\n",
       "      <th>Kplus_ETA</th>\n",
       "    </tr>\n",
       "  </thead>\n",
       "  <tbody>\n",
       "    <tr>\n",
       "      <th>count</th>\n",
       "      <td>2.126620e+05</td>\n",
       "      <td>212662.000000</td>\n",
       "      <td>2.126620e+05</td>\n",
       "      <td>2.126620e+05</td>\n",
       "      <td>212662.000000</td>\n",
       "      <td>2.126620e+05</td>\n",
       "      <td>2.126620e+05</td>\n",
       "      <td>212662.000000</td>\n",
       "      <td>2.126620e+05</td>\n",
       "      <td>2.126620e+05</td>\n",
       "      <td>212662.000000</td>\n",
       "      <td>2.126620e+05</td>\n",
       "      <td>212662.000000</td>\n",
       "      <td>212662.000000</td>\n",
       "    </tr>\n",
       "    <tr>\n",
       "      <th>mean</th>\n",
       "      <td>5.964327e-02</td>\n",
       "      <td>0.155261</td>\n",
       "      <td>1.069539e+00</td>\n",
       "      <td>-7.391022e-01</td>\n",
       "      <td>0.203660</td>\n",
       "      <td>3.474142e-01</td>\n",
       "      <td>-3.001162e-02</td>\n",
       "      <td>0.344970</td>\n",
       "      <td>2.268028e-01</td>\n",
       "      <td>3.452486e-01</td>\n",
       "      <td>0.269135</td>\n",
       "      <td>2.758933e-01</td>\n",
       "      <td>0.027852</td>\n",
       "      <td>0.019607</td>\n",
       "    </tr>\n",
       "    <tr>\n",
       "      <th>std</th>\n",
       "      <td>7.053996e-01</td>\n",
       "      <td>0.633170</td>\n",
       "      <td>6.875082e+00</td>\n",
       "      <td>1.869856e+00</td>\n",
       "      <td>0.881042</td>\n",
       "      <td>1.009810e+00</td>\n",
       "      <td>6.024103e-01</td>\n",
       "      <td>1.039433</td>\n",
       "      <td>8.139105e-01</td>\n",
       "      <td>1.056071e+00</td>\n",
       "      <td>0.898098</td>\n",
       "      <td>9.263393e-01</td>\n",
       "      <td>0.673102</td>\n",
       "      <td>0.666574</td>\n",
       "    </tr>\n",
       "    <tr>\n",
       "      <th>min</th>\n",
       "      <td>-1.347807e+00</td>\n",
       "      <td>-0.653392</td>\n",
       "      <td>-3.993158e-01</td>\n",
       "      <td>-1.339511e+01</td>\n",
       "      <td>-1.286165</td>\n",
       "      <td>-5.564596e-01</td>\n",
       "      <td>-1.294006e+00</td>\n",
       "      <td>-0.882562</td>\n",
       "      <td>-8.709809e-01</td>\n",
       "      <td>-8.969221e-01</td>\n",
       "      <td>-0.751380</td>\n",
       "      <td>-6.890419e-01</td>\n",
       "      <td>-1.458212</td>\n",
       "      <td>-1.455484</td>\n",
       "    </tr>\n",
       "    <tr>\n",
       "      <th>25%</th>\n",
       "      <td>-4.750081e-01</td>\n",
       "      <td>-0.389066</td>\n",
       "      <td>-2.370252e-01</td>\n",
       "      <td>-7.769254e-01</td>\n",
       "      <td>-0.398684</td>\n",
       "      <td>-3.389516e-01</td>\n",
       "      <td>-5.112066e-01</td>\n",
       "      <td>-0.342062</td>\n",
       "      <td>-3.817201e-01</td>\n",
       "      <td>-3.428614e-01</td>\n",
       "      <td>-0.370306</td>\n",
       "      <td>-3.810602e-01</td>\n",
       "      <td>-0.485572</td>\n",
       "      <td>-0.493748</td>\n",
       "    </tr>\n",
       "    <tr>\n",
       "      <th>50%</th>\n",
       "      <td>-8.140357e-17</td>\n",
       "      <td>0.000000</td>\n",
       "      <td>2.607809e-17</td>\n",
       "      <td>-1.519405e-12</td>\n",
       "      <td>0.000000</td>\n",
       "      <td>6.717183e-17</td>\n",
       "      <td>1.724517e-17</td>\n",
       "      <td>0.000000</td>\n",
       "      <td>-7.695210e-17</td>\n",
       "      <td>-6.361874e-17</td>\n",
       "      <td>0.000000</td>\n",
       "      <td>1.577725e-16</td>\n",
       "      <td>0.000000</td>\n",
       "      <td>0.000000</td>\n",
       "    </tr>\n",
       "    <tr>\n",
       "      <th>75%</th>\n",
       "      <td>5.249919e-01</td>\n",
       "      <td>0.610934</td>\n",
       "      <td>7.629748e-01</td>\n",
       "      <td>2.230746e-01</td>\n",
       "      <td>0.601316</td>\n",
       "      <td>6.610484e-01</td>\n",
       "      <td>4.887934e-01</td>\n",
       "      <td>0.657938</td>\n",
       "      <td>6.182799e-01</td>\n",
       "      <td>6.571386e-01</td>\n",
       "      <td>0.629694</td>\n",
       "      <td>6.189398e-01</td>\n",
       "      <td>0.514428</td>\n",
       "      <td>0.506252</td>\n",
       "    </tr>\n",
       "    <tr>\n",
       "      <th>max</th>\n",
       "      <td>3.595139e+00</td>\n",
       "      <td>1.631712</td>\n",
       "      <td>9.038630e+02</td>\n",
       "      <td>2.902751e-01</td>\n",
       "      <td>10.576339</td>\n",
       "      <td>6.218528e+00</td>\n",
       "      <td>9.427517e-01</td>\n",
       "      <td>9.352846</td>\n",
       "      <td>3.198929e+00</td>\n",
       "      <td>9.156377e+00</td>\n",
       "      <td>4.444940</td>\n",
       "      <td>1.655941e+01</td>\n",
       "      <td>1.772181</td>\n",
       "      <td>1.705496</td>\n",
       "    </tr>\n",
       "  </tbody>\n",
       "</table>\n",
       "</div>"
      ],
      "text/plain": [
       "                          B_OWNPV_CHI2                    B_IPCHI2_OWNPV   \\\n",
       "count                      2.126620e+05                     212662.000000   \n",
       "mean                       5.964327e-02                          0.155261   \n",
       "std                        7.053996e-01                          0.633170   \n",
       "min                       -1.347807e+00                         -0.653392   \n",
       "25%                       -4.750081e-01                         -0.389066   \n",
       "50%                       -8.140357e-17                          0.000000   \n",
       "75%                        5.249919e-01                          0.610934   \n",
       "max                        3.595139e+00                          1.631712   \n",
       "\n",
       "                        B_FDCHI2_OWNPV                      B_DIRA_OWNPV   \\\n",
       "count                      2.126620e+05                      2.126620e+05   \n",
       "mean                       1.069539e+00                     -7.391022e-01   \n",
       "std                        6.875082e+00                      1.869856e+00   \n",
       "min                       -3.993158e-01                     -1.339511e+01   \n",
       "25%                       -2.370252e-01                     -7.769254e-01   \n",
       "50%                        2.607809e-17                     -1.519405e-12   \n",
       "75%                        7.629748e-01                      2.230746e-01   \n",
       "max                        9.038630e+02                      2.902751e-01   \n",
       "\n",
       "                                  B_PT                Kst_892_0_IP_OWNPV   \\\n",
       "count                     212662.000000                      2.126620e+05   \n",
       "mean                           0.203660                      3.474142e-01   \n",
       "std                            0.881042                      1.009810e+00   \n",
       "min                           -1.286165                     -5.564596e-01   \n",
       "25%                           -0.398684                     -3.389516e-01   \n",
       "50%                            0.000000                      6.717183e-17   \n",
       "75%                            0.601316                      6.610484e-01   \n",
       "max                           10.576339                      6.218528e+00   \n",
       "\n",
       "                   Kst_892_0_cosThetaH                    Kplus_IP_OWNPV   \\\n",
       "count                      2.126620e+05                     212662.000000   \n",
       "mean                      -3.001162e-02                          0.344970   \n",
       "std                        6.024103e-01                          1.039433   \n",
       "min                       -1.294006e+00                         -0.882562   \n",
       "25%                       -5.112066e-01                         -0.342062   \n",
       "50%                        1.724517e-17                          0.000000   \n",
       "75%                        4.887934e-01                          0.657938   \n",
       "max                        9.427517e-01                          9.352846   \n",
       "\n",
       "                               Kplus_P                  piminus_IP_OWNPV   \\\n",
       "count                      2.126620e+05                      2.126620e+05   \n",
       "mean                       2.268028e-01                      3.452486e-01   \n",
       "std                        8.139105e-01                      1.056071e+00   \n",
       "min                       -8.709809e-01                     -8.969221e-01   \n",
       "25%                       -3.817201e-01                     -3.428614e-01   \n",
       "50%                       -7.695210e-17                     -6.361874e-17   \n",
       "75%                        6.182799e-01                      6.571386e-01   \n",
       "max                        3.198929e+00                      9.156377e+00   \n",
       "\n",
       "                             piminus_P                          gamma_PT   \\\n",
       "count                     212662.000000                      2.126620e+05   \n",
       "mean                           0.269135                      2.758933e-01   \n",
       "std                            0.898098                      9.263393e-01   \n",
       "min                           -0.751380                     -6.890419e-01   \n",
       "25%                           -0.370306                     -3.810602e-01   \n",
       "50%                            0.000000                      1.577725e-16   \n",
       "75%                            0.629694                      6.189398e-01   \n",
       "max                            4.444940                      1.655941e+01   \n",
       "\n",
       "                           piminus_ETA                         Kplus_ETA   \n",
       "count                     212662.000000                     212662.000000  \n",
       "mean                           0.027852                          0.019607  \n",
       "std                            0.673102                          0.666574  \n",
       "min                           -1.458212                         -1.455484  \n",
       "25%                           -0.485572                         -0.493748  \n",
       "50%                            0.000000                          0.000000  \n",
       "75%                            0.514428                          0.506252  \n",
       "max                            1.772181                          1.705496  "
      ]
     },
     "execution_count": 51,
     "metadata": {},
     "output_type": "execute_result"
    }
   ],
   "source": [
    "X_Rscaled.describe()"
   ]
  },
  {
   "cell_type": "markdown",
   "metadata": {
    "heading_collapsed": true
   },
   "source": [
    "## Feature engineering"
   ]
  },
  {
   "cell_type": "code",
   "execution_count": 53,
   "metadata": {
    "hidden": true
   },
   "outputs": [],
   "source": [
    "# EMPTY AT THIS POINT"
   ]
  },
  {
   "cell_type": "markdown",
   "metadata": {},
   "source": [
    "# Model Training and testing"
   ]
  },
  {
   "cell_type": "markdown",
   "metadata": {
    "heading_collapsed": true
   },
   "source": [
    "## Logistic regression"
   ]
  },
  {
   "cell_type": "code",
   "execution_count": 80,
   "metadata": {
    "hidden": true
   },
   "outputs": [],
   "source": [
    "#Split between training and test\n",
    "X_train, X_test, y_train, y_test = train_test_split(X_Rscaled, y, test_size=0.33)\n",
    "k_fold = StratifiedKFold(n_splits=5,shuffle=True)"
   ]
  },
  {
   "cell_type": "code",
   "execution_count": 81,
   "metadata": {
    "hidden": true
   },
   "outputs": [],
   "source": [
    "#penalty = 'l2'\n",
    "#C = 1.0\n",
    "#class_weight = 'balanced'\n",
    "#n_jobs=1\n",
    "#solver = 'liblinear'\n",
    "\n",
    "#model = LogisticRegression(penalty=penalty, C=C,\n",
    "            class_weight=class_weight,solver=solver, n_jobs=n_jobs)"
   ]
  },
  {
   "cell_type": "code",
   "execution_count": 109,
   "metadata": {
    "hidden": true
   },
   "outputs": [
    {
     "name": "stderr",
     "output_type": "stream",
     "text": [
      "C:\\ProgramData\\Anaconda3\\lib\\site-packages\\sklearn\\utils\\validation.py:760: DataConversionWarning: A column-vector y was passed when a 1d array was expected. Please change the shape of y to (n_samples, ), for example using ravel().\n",
      "  y = column_or_1d(y, warn=True)\n"
     ]
    },
    {
     "name": "stdout",
     "output_type": "stream",
     "text": [
      "0.7397662870878879\n",
      "0.7429203074007791\n",
      "\n"
     ]
    },
    {
     "name": "stderr",
     "output_type": "stream",
     "text": [
      "C:\\ProgramData\\Anaconda3\\lib\\site-packages\\sklearn\\utils\\validation.py:760: DataConversionWarning: A column-vector y was passed when a 1d array was expected. Please change the shape of y to (n_samples, ), for example using ravel().\n",
      "  y = column_or_1d(y, warn=True)\n"
     ]
    },
    {
     "name": "stdout",
     "output_type": "stream",
     "text": [
      "0.7414507044724791\n",
      "0.7373407727129172\n",
      "\n"
     ]
    },
    {
     "name": "stderr",
     "output_type": "stream",
     "text": [
      "C:\\ProgramData\\Anaconda3\\lib\\site-packages\\sklearn\\utils\\validation.py:760: DataConversionWarning: A column-vector y was passed when a 1d array was expected. Please change the shape of y to (n_samples, ), for example using ravel().\n",
      "  y = column_or_1d(y, warn=True)\n"
     ]
    },
    {
     "name": "stdout",
     "output_type": "stream",
     "text": [
      "0.7401610724124015\n",
      "0.7413061023967435\n",
      "\n"
     ]
    },
    {
     "name": "stderr",
     "output_type": "stream",
     "text": [
      "C:\\ProgramData\\Anaconda3\\lib\\site-packages\\sklearn\\utils\\validation.py:760: DataConversionWarning: A column-vector y was passed when a 1d array was expected. Please change the shape of y to (n_samples, ), for example using ravel().\n",
      "  y = column_or_1d(y, warn=True)\n"
     ]
    },
    {
     "name": "stdout",
     "output_type": "stream",
     "text": [
      "0.7406985007062209\n",
      "0.7397178551375632\n",
      "\n"
     ]
    },
    {
     "name": "stderr",
     "output_type": "stream",
     "text": [
      "C:\\ProgramData\\Anaconda3\\lib\\site-packages\\sklearn\\utils\\validation.py:760: DataConversionWarning: A column-vector y was passed when a 1d array was expected. Please change the shape of y to (n_samples, ), for example using ravel().\n",
      "  y = column_or_1d(y, warn=True)\n"
     ]
    },
    {
     "name": "stdout",
     "output_type": "stream",
     "text": [
      "0.7402510812636529\n",
      "0.7410162829870859\n",
      "\n"
     ]
    }
   ],
   "source": [
    "model=LogisticRegression(C = 1.0)\n",
    "\n",
    "for train_index, cv_index in k_fold.split(np.zeros(len(X_train)),\n",
    "                                          y_train.values.ravel()):\n",
    "    X_train_fold, X_cv_fold = X_train.iloc[train_index,:], X_train.iloc[cv_index,:]\n",
    "    y_train_fold, y_cv_fold = y_train.iloc[train_index], y_train.iloc[cv_index]\n",
    "    \n",
    "    #model\n",
    "    model.fit(X_train_fold,y_train_fold)\n",
    "    \n",
    "    print(model.score(X_train_fold,y_train_fold))\n",
    "    print(model.score(X_cv_fold,y_cv_fold))\n",
    "    print()\n"
   ]
  },
  {
   "cell_type": "code",
   "execution_count": 110,
   "metadata": {
    "hidden": true
   },
   "outputs": [],
   "source": [
    "score=model.score(X_test,y_test)\n",
    "predictions = model.predict(X_test)\n",
    "cm = confusion_matrix(y_test, predictions)"
   ]
  },
  {
   "cell_type": "code",
   "execution_count": 111,
   "metadata": {
    "hidden": true
   },
   "outputs": [
    {
     "data": {
      "image/png": "[encoded data removed]",
      "text/plain": [
       "<Figure size 648x648 with 2 Axes>"
      ]
     },
     "metadata": {
      "needs_background": "light"
     },
     "output_type": "display_data"
    }
   ],
   "source": [
    "plt.figure(figsize=(9,9))\n",
    "sns.heatmap(cm, annot=True, fmt=\".3f\", linewidths=.5, square = True, cmap = 'Blues_r');\n",
    "plt.ylabel('Actual label');\n",
    "plt.xlabel('Predicted label');\n",
    "all_sample_title = 'Accuracy Score: {0}'.format(score)\n",
    "plt.title(all_sample_title, size = 15);"
   ]
  },
  {
   "cell_type": "code",
   "execution_count": 112,
   "metadata": {
    "hidden": true
   },
   "outputs": [
    {
     "data": {
      "text/plain": [
       "0.7913239931600058"
      ]
     },
     "execution_count": 112,
     "metadata": {},
     "output_type": "execute_result"
    }
   ],
   "source": [
    "roc_auc_score(y_test, model.predict_proba(X_test)[:,1])"
   ]
  },
  {
   "cell_type": "markdown",
   "metadata": {},
   "source": [
    "## Random Forest"
   ]
  },
  {
   "cell_type": "code",
   "execution_count": 137,
   "metadata": {},
   "outputs": [],
   "source": [
    "#Split between training and test\n",
    "X_train, X_test, y_train, y_test = train_test_split(X_Rscaled, y, test_size=0.4)\n",
    "k_fold = StratifiedKFold(n_splits=5,shuffle=True)"
   ]
  },
  {
   "cell_type": "code",
   "execution_count": 138,
   "metadata": {},
   "outputs": [
    {
     "name": "stderr",
     "output_type": "stream",
     "text": [
      "C:\\ProgramData\\Anaconda3\\lib\\site-packages\\ipykernel_launcher.py:10: DataConversionWarning: A column-vector y was passed when a 1d array was expected. Please change the shape of y to (n_samples,), for example using ravel().\n",
      "  # Remove the CWD from sys.path while we load stuff.\n"
     ]
    },
    {
     "name": "stdout",
     "output_type": "stream",
     "text": [
      "0.9999804069476963\n",
      "0.7718260188087774\n"
     ]
    },
    {
     "name": "stderr",
     "output_type": "stream",
     "text": [
      "C:\\ProgramData\\Anaconda3\\lib\\site-packages\\ipykernel_launcher.py:10: DataConversionWarning: A column-vector y was passed when a 1d array was expected. Please change the shape of y to (n_samples,), for example using ravel().\n",
      "  # Remove the CWD from sys.path while we load stuff.\n"
     ]
    },
    {
     "name": "stdout",
     "output_type": "stream",
     "text": [
      "0.9999902034738481\n",
      "0.7720219435736677\n"
     ]
    },
    {
     "name": "stderr",
     "output_type": "stream",
     "text": [
      "C:\\ProgramData\\Anaconda3\\lib\\site-packages\\ipykernel_launcher.py:10: DataConversionWarning: A column-vector y was passed when a 1d array was expected. Please change the shape of y to (n_samples,), for example using ravel().\n",
      "  # Remove the CWD from sys.path while we load stuff.\n"
     ]
    },
    {
     "name": "stdout",
     "output_type": "stream",
     "text": [
      "1.0\n",
      "0.7711900936557076\n"
     ]
    },
    {
     "name": "stderr",
     "output_type": "stream",
     "text": [
      "C:\\ProgramData\\Anaconda3\\lib\\site-packages\\ipykernel_launcher.py:10: DataConversionWarning: A column-vector y was passed when a 1d array was expected. Please change the shape of y to (n_samples,), for example using ravel().\n",
      "  # Remove the CWD from sys.path while we load stuff.\n"
     ]
    },
    {
     "name": "stdout",
     "output_type": "stream",
     "text": [
      "1.0\n",
      "0.774442572201105\n"
     ]
    },
    {
     "name": "stderr",
     "output_type": "stream",
     "text": [
      "C:\\ProgramData\\Anaconda3\\lib\\site-packages\\ipykernel_launcher.py:10: DataConversionWarning: A column-vector y was passed when a 1d array was expected. Please change the shape of y to (n_samples,), for example using ravel().\n",
      "  # Remove the CWD from sys.path while we load stuff.\n"
     ]
    },
    {
     "name": "stdout",
     "output_type": "stream",
     "text": [
      "1.0\n",
      "0.7742466397586112\n"
     ]
    }
   ],
   "source": [
    "model = RandomForestClassifier()\n",
    "\n",
    "for train_index, cv_index in k_fold.split(np.zeros(len(X_train)),\n",
    "                                          y_train.values.ravel()):\n",
    "    X_train_fold, X_cv_fold = X_train.iloc[train_index,:], \\\n",
    "        X_train.iloc[cv_index,:]\n",
    "    y_train_fold, y_cv_fold = y_train.iloc[train_index], \\\n",
    "        y_train.iloc[cv_index]\n",
    "    \n",
    "    model.fit(X_train_fold, y_train_fold)\n",
    "    print(model.score(X_train_fold,y_train_fold))\n",
    "    print(model.score(X_cv_fold,y_cv_fold))\n",
    "    \n"
   ]
  },
  {
   "cell_type": "code",
   "execution_count": 139,
   "metadata": {},
   "outputs": [
    {
     "data": {
      "text/plain": [
       "0.8324412128991875"
      ]
     },
     "execution_count": 139,
     "metadata": {},
     "output_type": "execute_result"
    }
   ],
   "source": [
    "roc_auc_score(y_test, model.predict_proba(X_test)[:,1])"
   ]
  }
 ],
 "metadata": {
  "kernelspec": {
   "display_name": "Python 3",
   "language": "python",
   "name": "python3"
  },
  "language_info": {
   "codemirror_mode": {
    "name": "ipython",
    "version": 3
   },
   "file_extension": ".py",
   "mimetype": "text/x-python",
   "name": "python",
   "nbconvert_exporter": "python",
   "pygments_lexer": "ipython3",
   "version": "3.7.3"
  },
  "toc": {
   "base_numbering": 1,
   "nav_menu": {},
   "number_sections": true,
   "sideBar": true,
   "skip_h1_title": false,
   "title_cell": "Table of Contents",
   "title_sidebar": "Contents",
   "toc_cell": false,
   "toc_position": {},
   "toc_section_display": true,
   "toc_window_display": false
  }
 },
 "nbformat": 4,
 "nbformat_minor": 4
}
