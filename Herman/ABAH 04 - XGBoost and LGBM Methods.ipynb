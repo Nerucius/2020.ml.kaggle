{
 "cells": [
  {
   "cell_type": "code",
   "execution_count": null,
   "metadata": {},
   "outputs": [],
   "source": [
    "import pandas as pd\n",
    "import numpy as np\n",
    "\n",
    "import xgboost as xgb\n",
    "from xgboost import XGBClassifier\n",
    "import lightgbm as lgb\n",
    "\n",
    "from sklearn.metrics import roc_auc_score, accuracy_score"
   ]
  },
  {
   "cell_type": "code",
   "execution_count": 46,
   "metadata": {},
   "outputs": [
    {
     "data": {
      "text/plain": [
       "Index(['B_OWNPV_CHI2', 'B_IPCHI2_OWNPV', 'B_FDCHI2_OWNPV', 'B_DIRA_OWNPV',\n",
       "       'B_PT', 'Kst_892_0_IP_OWNPV', 'Kst_892_0_cosThetaH', 'Kplus_IP_OWNPV',\n",
       "       'Kplus_P', 'piminus_IP_OWNPV', 'piminus_P', 'gamma_PT', 'piminus_ETA',\n",
       "       'Kplus_ETA', 'BUTTER'],\n",
       "      dtype='object')"
      ]
     },
     "execution_count": 46,
     "metadata": {},
     "output_type": "execute_result"
    }
   ],
   "source": [
    "df = pd.read_csv('../data/train.csv', index_col=0)\n",
    "df_eval = pd.read_csv('../data/test.csv', index_col=0)\n",
    "\n",
    "df.columns = df.columns.str.strip()\n",
    "df_eval.columns = df_eval.columns.str.strip()\n",
    "\n",
    "df_eval.columns"
   ]
  },
  {
   "cell_type": "code",
   "execution_count": 47,
   "metadata": {},
   "outputs": [
    {
     "data": {
      "text/plain": [
       "(14, 14)"
      ]
     },
     "execution_count": 47,
     "metadata": {},
     "output_type": "execute_result"
    }
   ],
   "source": [
    "def preprocess_data(df):\n",
    "    df2 = df.copy()\n",
    "    \n",
    "    del df2['BUTTER']\n",
    "    # df2['gamma_PT'] = np.log(df2['gamma_PT'])\n",
    "    # df2['B_DIRA_OWNPV'] = np.log(df2['B_DIRA_OWNPV'])\n",
    "    # df2['Kst_892_0_IP_OWNPV'] = np.log(df2['Kst_892_0_IP_OWNPV'])\n",
    "    \n",
    "    return df2\n",
    "    \n",
    "df_train = preprocess_data(df)\n",
    "df_eval = preprocess_data(df_eval)\n",
    "X = df_train[df_train.columns[:-1]]\n",
    "y = df_train[df_train.columns[-1]]\n",
    "\n",
    "len(X.columns), len(df_eval.columns)"
   ]
  },
  {
   "cell_type": "code",
   "execution_count": 48,
   "metadata": {},
   "outputs": [
    {
     "name": "stdout",
     "output_type": "stream",
     "text": [
      "(191395, 14) (21267, 14)\n"
     ]
    },
    {
     "data": {
      "text/html": [
       "<div>\n",
       "<style scoped>\n",
       "    .dataframe tbody tr th:only-of-type {\n",
       "        vertical-align: middle;\n",
       "    }\n",
       "\n",
       "    .dataframe tbody tr th {\n",
       "        vertical-align: top;\n",
       "    }\n",
       "\n",
       "    .dataframe thead th {\n",
       "        text-align: right;\n",
       "    }\n",
       "</style>\n",
       "<table border=\"1\" class=\"dataframe\">\n",
       "  <thead>\n",
       "    <tr style=\"text-align: right;\">\n",
       "      <th></th>\n",
       "      <th>B_OWNPV_CHI2</th>\n",
       "      <th>B_IPCHI2_OWNPV</th>\n",
       "      <th>B_FDCHI2_OWNPV</th>\n",
       "      <th>B_DIRA_OWNPV</th>\n",
       "      <th>B_PT</th>\n",
       "      <th>Kst_892_0_IP_OWNPV</th>\n",
       "      <th>Kst_892_0_cosThetaH</th>\n",
       "      <th>Kplus_IP_OWNPV</th>\n",
       "      <th>Kplus_P</th>\n",
       "      <th>piminus_IP_OWNPV</th>\n",
       "      <th>piminus_P</th>\n",
       "      <th>gamma_PT</th>\n",
       "      <th>piminus_ETA</th>\n",
       "      <th>Kplus_ETA</th>\n",
       "    </tr>\n",
       "  </thead>\n",
       "  <tbody>\n",
       "    <tr>\n",
       "      <th>0</th>\n",
       "      <td>0.155007</td>\n",
       "      <td>-0.518109</td>\n",
       "      <td>0.590314</td>\n",
       "      <td>0.064027</td>\n",
       "      <td>2.272691</td>\n",
       "      <td>0.409998</td>\n",
       "      <td>0.918624</td>\n",
       "      <td>0.115959</td>\n",
       "      <td>-0.533184</td>\n",
       "      <td>0.569714</td>\n",
       "      <td>-0.236118</td>\n",
       "      <td>2.921955</td>\n",
       "      <td>-1.164020</td>\n",
       "      <td>-1.196681</td>\n",
       "    </tr>\n",
       "    <tr>\n",
       "      <th>1</th>\n",
       "      <td>-0.236251</td>\n",
       "      <td>-0.034201</td>\n",
       "      <td>1.067547</td>\n",
       "      <td>0.186846</td>\n",
       "      <td>0.011378</td>\n",
       "      <td>0.494437</td>\n",
       "      <td>-0.970477</td>\n",
       "      <td>0.741977</td>\n",
       "      <td>1.119536</td>\n",
       "      <td>-0.298632</td>\n",
       "      <td>-0.066184</td>\n",
       "      <td>-0.188864</td>\n",
       "      <td>0.258893</td>\n",
       "      <td>0.333509</td>\n",
       "    </tr>\n",
       "    <tr>\n",
       "      <th>2</th>\n",
       "      <td>-0.479638</td>\n",
       "      <td>-0.522993</td>\n",
       "      <td>4.507572</td>\n",
       "      <td>0.276628</td>\n",
       "      <td>0.009654</td>\n",
       "      <td>2.312267</td>\n",
       "      <td>0.072016</td>\n",
       "      <td>2.419477</td>\n",
       "      <td>-0.032379</td>\n",
       "      <td>2.148556</td>\n",
       "      <td>0.268203</td>\n",
       "      <td>0.169498</td>\n",
       "      <td>-0.132132</td>\n",
       "      <td>0.046565</td>\n",
       "    </tr>\n",
       "  </tbody>\n",
       "</table>\n",
       "</div>"
      ],
      "text/plain": [
       "   B_OWNPV_CHI2  B_IPCHI2_OWNPV  B_FDCHI2_OWNPV  B_DIRA_OWNPV      B_PT  \\\n",
       "0      0.155007       -0.518109        0.590314      0.064027  2.272691   \n",
       "1     -0.236251       -0.034201        1.067547      0.186846  0.011378   \n",
       "2     -0.479638       -0.522993        4.507572      0.276628  0.009654   \n",
       "\n",
       "   Kst_892_0_IP_OWNPV  Kst_892_0_cosThetaH  Kplus_IP_OWNPV   Kplus_P  \\\n",
       "0            0.409998             0.918624        0.115959 -0.533184   \n",
       "1            0.494437            -0.970477        0.741977  1.119536   \n",
       "2            2.312267             0.072016        2.419477 -0.032379   \n",
       "\n",
       "   piminus_IP_OWNPV  piminus_P  gamma_PT  piminus_ETA  Kplus_ETA  \n",
       "0          0.569714  -0.236118  2.921955    -1.164020  -1.196681  \n",
       "1         -0.298632  -0.066184 -0.188864     0.258893   0.333509  \n",
       "2          2.148556   0.268203  0.169498    -0.132132   0.046565  "
      ]
     },
     "execution_count": 48,
     "metadata": {},
     "output_type": "execute_result"
    }
   ],
   "source": [
    "from sklearn.model_selection import train_test_split\n",
    "from sklearn.preprocessing import RobustScaler, StandardScaler\n",
    "\n",
    "scaler = RobustScaler()\n",
    "\n",
    "X_train, X_test, y_train, y_test = train_test_split(X, y, test_size=0.10, random_state=0)\n",
    "\n",
    "X_train = pd.DataFrame(data=scaler.fit_transform(X_train), columns=X_train.columns)\n",
    "X_test = pd.DataFrame(data=scaler.transform(X_test), columns=X_train.columns)\n",
    "\n",
    "print(X_train.shape, X_test.shape)\n",
    "X_test[:3]"
   ]
  },
  {
   "cell_type": "markdown",
   "metadata": {},
   "source": [
    "### XGBoost"
   ]
  },
  {
   "cell_type": "code",
   "execution_count": null,
   "metadata": {},
   "outputs": [],
   "source": [
    "xgb_params = {\n",
    "    'scale_pos_weight': 2,\n",
    "    'learning_rate': 0.01,\n",
    "    'colsample_bytree': 0.4,\n",
    "    'subsample': 0.8,\n",
    "    'objective': 'binary:logistic',\n",
    "    'n_estimators': 1000,\n",
    "    'reg_alpha': 0.3,\n",
    "    'max_depth': 6,\n",
    "    'gamma': 10\n",
    "}\n",
    "\n",
    "model = xgb.XGBClassifier(**xgb_params)\n",
    "model.fit(X_train, y_train, eval_set=[(X_train,y_train), (X_test,y_test)], eval_metric=['auc', 'error'], verbose=True)"
   ]
  },
  {
   "cell_type": "code",
   "execution_count": null,
   "metadata": {},
   "outputs": [],
   "source": [
    "y_hat_train = model.predict_proba(X_train)[:,1]\n",
    "y_hat_test = model.predict_proba(X_test)[:,1]\n",
    "\n",
    "print(\"AUC Train\\t\", roc_auc_score(y_train, y_hat_train))\n",
    "print(\"AUC Test\\t\", roc_auc_score(y_test, y_hat_test))"
   ]
  },
  {
   "cell_type": "markdown",
   "metadata": {},
   "source": [
    "### LightGBM"
   ]
  },
  {
   "cell_type": "code",
   "execution_count": 19,
   "metadata": {},
   "outputs": [
    {
     "name": "stdout",
     "output_type": "stream",
     "text": [
      "[200]\ttraining's auc: 0.83618\tvalid_1's auc: 0.829708\n",
      "[400]\ttraining's auc: 0.847083\tvalid_1's auc: 0.840138\n",
      "[600]\ttraining's auc: 0.853225\tvalid_1's auc: 0.845519\n",
      "[800]\ttraining's auc: 0.857651\tvalid_1's auc: 0.849242\n",
      "[1000]\ttraining's auc: 0.861334\tvalid_1's auc: 0.852396\n",
      "[1200]\ttraining's auc: 0.86422\tvalid_1's auc: 0.854534\n",
      "[1400]\ttraining's auc: 0.866949\tvalid_1's auc: 0.856722\n",
      "[1600]\ttraining's auc: 0.869261\tvalid_1's auc: 0.858498\n",
      "[1800]\ttraining's auc: 0.871347\tvalid_1's auc: 0.859988\n",
      "[2000]\ttraining's auc: 0.873163\tvalid_1's auc: 0.861401\n",
      "[2200]\ttraining's auc: 0.87483\tvalid_1's auc: 0.862522\n",
      "[2400]\ttraining's auc: 0.876335\tvalid_1's auc: 0.863566\n",
      "[2600]\ttraining's auc: 0.877751\tvalid_1's auc: 0.86444\n",
      "[2800]\ttraining's auc: 0.879054\tvalid_1's auc: 0.865131\n",
      "[3000]\ttraining's auc: 0.880186\tvalid_1's auc: 0.865704\n",
      "[3200]\ttraining's auc: 0.881331\tvalid_1's auc: 0.866399\n",
      "[3400]\ttraining's auc: 0.882472\tvalid_1's auc: 0.867052\n",
      "[3600]\ttraining's auc: 0.883522\tvalid_1's auc: 0.867562\n",
      "[3800]\ttraining's auc: 0.884488\tvalid_1's auc: 0.867981\n",
      "[4000]\ttraining's auc: 0.885429\tvalid_1's auc: 0.868459\n",
      "[4200]\ttraining's auc: 0.886306\tvalid_1's auc: 0.868578\n",
      "[4400]\ttraining's auc: 0.887231\tvalid_1's auc: 0.869015\n",
      "[4600]\ttraining's auc: 0.88809\tvalid_1's auc: 0.86942\n",
      "[4800]\ttraining's auc: 0.888875\tvalid_1's auc: 0.869741\n",
      "[5000]\ttraining's auc: 0.889678\tvalid_1's auc: 0.870048\n"
     ]
    }
   ],
   "source": [
    "lgb_params = {\n",
    "    'objective': 'binary',\n",
    "    'metric': 'auc',\n",
    "    'verbosity': -1,\n",
    "    'boosting_type': \"gbdt\",\n",
    "    'feature_pre_filter': False,\n",
    "    'lambda_l1': 0.0,\n",
    "    'lambda_l2': 0.0,\n",
    "    'num_leaves': 4,\n",
    "    'feature_fraction': 0.4,\n",
    "    'bagging_fraction': 0.86966,\n",
    "    'bagging_freq': 1,\n",
    "    'min_child_samples': 100,\n",
    "}\n",
    "\n",
    "dtrain = lgb.Dataset(X_train, label=y_train)\n",
    "dtest = lgb.Dataset(X_test, label=y_test)\n",
    "\n",
    "clf = lgb.train(lgb_params, dtrain, 5000, valid_sets=(dtrain, dtest), verbose_eval=200)"
   ]
  },
  {
   "cell_type": "code",
   "execution_count": 49,
   "metadata": {},
   "outputs": [
    {
     "name": "stdout",
     "output_type": "stream",
     "text": [
      "AUC Train\t 0.8896782953998287\n",
      "AUC Test\t 0.8700478759653306\n"
     ]
    }
   ],
   "source": [
    "y_hat_train = clf.predict(X_train)\n",
    "y_hat_test = clf.predict(X_test)\n",
    "\n",
    "print(\"AUC Train\\t\", roc_auc_score(y_train, y_hat_train))\n",
    "print(\"AUC Test\\t\", roc_auc_score(y_test, y_hat_test))"
   ]
  },
  {
   "cell_type": "code",
   "execution_count": 50,
   "metadata": {},
   "outputs": [],
   "source": [
    "pd.DataFrame(data=y_hat_test, columns=['lgbm']).to_csv('lgbm_proba.csv')"
   ]
  },
  {
   "cell_type": "markdown",
   "metadata": {},
   "source": [
    "## Write Predictions"
   ]
  },
  {
   "cell_type": "code",
   "execution_count": 51,
   "metadata": {},
   "outputs": [],
   "source": [
    "X_eval = pd.DataFrame(data=scaler.transform(df_eval), columns=df_eval.columns)\n",
    "y_eval_hat = clf.predict(X_eval)\n",
    "\n",
    "pd.DataFrame(data=y_eval_hat, columns=['lgbm']).to_csv('lgbm_eval_proba.csv')"
   ]
  },
  {
   "cell_type": "code",
   "execution_count": null,
   "metadata": {},
   "outputs": [],
   "source": []
  }
 ],
 "metadata": {
  "kernelspec": {
   "display_name": "Python 3",
   "language": "python",
   "name": "python3"
  },
  "language_info": {
   "codemirror_mode": {
    "name": "ipython",
    "version": 3
   },
   "file_extension": ".py",
   "mimetype": "text/x-python",
   "name": "python",
   "nbconvert_exporter": "python",
   "pygments_lexer": "ipython3",
   "version": "3.8.5"
  }
 },
 "nbformat": 4,
 "nbformat_minor": 4
}
